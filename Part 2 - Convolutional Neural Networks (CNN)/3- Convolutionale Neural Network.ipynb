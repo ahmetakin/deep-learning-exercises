{
 "cells": [
  {
   "cell_type": "markdown",
   "id": "10e28cb3-ab0e-4b72-ae9a-3fb14863fa8d",
   "metadata": {},
   "source": [
    "### Importing the libraries"
   ]
  },
  {
   "cell_type": "code",
   "execution_count": 1,
   "id": "7571fe89-1d53-44b4-ab21-3a63ea04d01d",
   "metadata": {},
   "outputs": [],
   "source": [
    "import tensorflow as tf\n",
    "from tensorflow.keras.preprocessing.image import ImageDataGenerator #resim işlemek için"
   ]
  },
  {
   "cell_type": "code",
   "execution_count": 2,
   "id": "ea4277b9-e4b3-4b9f-9636-6bc037da4e6c",
   "metadata": {},
   "outputs": [
    {
     "data": {
      "text/plain": [
       "'2.11.1'"
      ]
     },
     "execution_count": 2,
     "metadata": {},
     "output_type": "execute_result"
    }
   ],
   "source": [
    "tf.__version__"
   ]
  },
  {
   "cell_type": "markdown",
   "id": "257ce27d-c94c-484c-ba34-0c4f095c31df",
   "metadata": {},
   "source": [
    "## Part 1 - Data Preprocessing"
   ]
  },
  {
   "cell_type": "markdown",
   "id": "a24b838b-74d8-4197-a317-b1b496b9cb8c",
   "metadata": {},
   "source": [
    "### Preprocessing the Training set"
   ]
  },
  {
   "cell_type": "code",
   "execution_count": 3,
   "id": "f8c4c47b-bbe7-45e0-8270-4dbfb829d3e1",
   "metadata": {},
   "outputs": [
    {
     "name": "stdout",
     "output_type": "stream",
     "text": [
      "Found 8000 images belonging to 2 classes.\n"
     ]
    }
   ],
   "source": [
    "#overtrain e karşı görüntüleri sabitliyoruz geometrik transformasyon\n",
    "# this is the augmentation configuration we will use for training\n",
    "train_datagen = ImageDataGenerator(rescale = 1./255,\n",
    "                                   shear_range = 0.2,\n",
    "                                   zoom_range = 0.2,\n",
    "                                   horizontal_flip = True)\n",
    "# batches of augmented image data\n",
    "training_set = train_datagen.flow_from_directory('dataset/training_set',  # this is the target directory\n",
    "                                                 target_size = (64, 64),# all images will be resized to 64x64\n",
    "                                                 batch_size = 32,\n",
    "                                                 class_mode = 'binary') #since we use binary_crossentropy loss, we need binary labels"
   ]
  },
  {
   "cell_type": "markdown",
   "id": "f5eed6f3-5743-45d5-a731-9197bcaa9c18",
   "metadata": {},
   "source": [
    "### Preprocessing the Test set"
   ]
  },
  {
   "cell_type": "code",
   "execution_count": 4,
   "id": "79528a01-3440-4be6-9531-74f9be744764",
   "metadata": {},
   "outputs": [
    {
     "name": "stdout",
     "output_type": "stream",
     "text": [
      "Found 2000 images belonging to 2 classes.\n"
     ]
    }
   ],
   "source": [
    "# this is the augmentation configuration we will use for testing:\n",
    "# only rescaling\n",
    "test_datagen = ImageDataGenerator(rescale = 1./255)\n",
    "test_set = test_datagen.flow_from_directory('dataset/test_set',\n",
    "                                            target_size = (64, 64),\n",
    "                                            batch_size = 32,\n",
    "                                            class_mode = 'binary')"
   ]
  },
  {
   "cell_type": "markdown",
   "id": "640ea8c8-c6e5-4107-a700-5576b5ae70f9",
   "metadata": {},
   "source": [
    "## Part 2 - Building the CNN"
   ]
  },
  {
   "cell_type": "markdown",
   "id": "229542b8-374b-4c9e-9212-62e8ee14a997",
   "metadata": {},
   "source": [
    "### Initialising the CNN"
   ]
  },
  {
   "cell_type": "code",
   "execution_count": 5,
   "id": "c8cc7ff9-bc17-4462-bfc7-78989b286cf4",
   "metadata": {},
   "outputs": [],
   "source": [
    "cnn = tf.keras.models.Sequential()"
   ]
  },
  {
   "cell_type": "markdown",
   "id": "031a48e9-03fc-4c43-aadf-dbe0b25f895d",
   "metadata": {},
   "source": [
    "### Step 1 - Convolution"
   ]
  },
  {
   "cell_type": "code",
   "execution_count": 6,
   "id": "b59ed4bd-49d4-4e6e-a55d-42881e512ef8",
   "metadata": {},
   "outputs": [],
   "source": [
    "cnn.add(tf.keras.layers.Conv2D(filters=32, kernel_size=3, activation='relu', input_shape=[64, 64, 3])) \n",
    "#32 filtreli 3d kernel relu activation input_Shape = 64X64X3 boyutlandırdığım boyut"
   ]
  },
  {
   "cell_type": "markdown",
   "id": "eaffd96e-7292-4926-9c58-29af87066e77",
   "metadata": {},
   "source": [
    "### Step 2 - Pooling"
   ]
  },
  {
   "cell_type": "code",
   "execution_count": 7,
   "id": "e0cd6f1f-fcdb-4fa8-b512-99e32557026d",
   "metadata": {},
   "outputs": [],
   "source": [
    "cnn.add(tf.keras.layers.MaxPool2D(pool_size=2, strides=2))\n",
    "# kaç frame olarak alcak 2x2 o yüzden 2 pool_size strides ise shift kaç pixel ile olacağı"
   ]
  },
  {
   "cell_type": "markdown",
   "id": "11c9b36d-8419-4504-b6ff-ce6678b7abf3",
   "metadata": {},
   "source": [
    "### Adding a second convolutional layer"
   ]
  },
  {
   "cell_type": "code",
   "execution_count": 8,
   "id": "772f42a5-4ff8-4829-8b15-3437cb0adc03",
   "metadata": {},
   "outputs": [],
   "source": [
    "cnn.add(tf.keras.layers.Conv2D(filters=32, kernel_size=3, activation='relu'))\n",
    "cnn.add(tf.keras.layers.MaxPool2D(pool_size=2, strides=2))"
   ]
  },
  {
   "cell_type": "markdown",
   "id": "f9452769-6420-43a5-abe6-7873400bad80",
   "metadata": {},
   "source": [
    "### Step 3 - Flattening"
   ]
  },
  {
   "cell_type": "code",
   "execution_count": 9,
   "id": "ef289b22-e5e4-4e02-8d1e-0388d43af5a8",
   "metadata": {},
   "outputs": [],
   "source": [
    "cnn.add(tf.keras.layers.Flatten())"
   ]
  },
  {
   "cell_type": "markdown",
   "id": "995eb130-fc15-498e-a22c-d6b9d4be5660",
   "metadata": {},
   "source": [
    "### Step 4 - Full Connection"
   ]
  },
  {
   "cell_type": "code",
   "execution_count": 10,
   "id": "7fb018cf-77c3-4f48-ae2f-571a881b9e5e",
   "metadata": {},
   "outputs": [],
   "source": [
    "cnn.add(tf.keras.layers.Dense(units=128, activation='relu')) #yüksek tutuyoruz units i"
   ]
  },
  {
   "cell_type": "markdown",
   "id": "04d54dcc-f10c-4e60-a5d4-3882a06505ea",
   "metadata": {},
   "source": [
    "### Step 5 - Output Layer"
   ]
  },
  {
   "cell_type": "code",
   "execution_count": 11,
   "id": "ad47b06f-49f2-4d8d-8e17-8aea7a0d4c59",
   "metadata": {},
   "outputs": [],
   "source": [
    "cnn.add(tf.keras.layers.Dense(units=1, activation='sigmoid')) \n",
    "#ikili sınıflandırma yaptığımız için 1 nöron sigmoid ise sınıflandırma için uygun diye"
   ]
  },
  {
   "cell_type": "markdown",
   "id": "9114ce6b-b3ba-43e5-95b2-2403d7e9092e",
   "metadata": {},
   "source": [
    "## Part 3 - Training the CNN"
   ]
  },
  {
   "cell_type": "markdown",
   "id": "48de4bfb-6491-4d00-84cf-27aa0a82690b",
   "metadata": {},
   "source": [
    "### Compiling the CNN"
   ]
  },
  {
   "cell_type": "code",
   "execution_count": 12,
   "id": "66df1f0e-6ace-4194-a322-b36cb56d9e56",
   "metadata": {},
   "outputs": [],
   "source": [
    "cnn.compile(optimizer = 'adam', loss = 'binary_crossentropy', metrics = ['accuracy'])"
   ]
  },
  {
   "cell_type": "markdown",
   "id": "50a01ce5-90cc-4610-afe4-66582129668b",
   "metadata": {},
   "source": [
    "### Training the CNN on the Training set and evaluating it on the Test set"
   ]
  },
  {
   "cell_type": "code",
   "execution_count": 13,
   "id": "4a852626-1566-404f-85be-ae3cc45dfe8d",
   "metadata": {},
   "outputs": [
    {
     "name": "stdout",
     "output_type": "stream",
     "text": [
      "Epoch 1/25\n",
      "250/250 [==============================] - 39s 149ms/step - loss: 0.6841 - accuracy: 0.5725 - val_loss: 0.6359 - val_accuracy: 0.6495\n",
      "Epoch 2/25\n",
      "250/250 [==============================] - 38s 151ms/step - loss: 0.6308 - accuracy: 0.6466 - val_loss: 0.6060 - val_accuracy: 0.6970\n",
      "Epoch 3/25\n",
      "250/250 [==============================] - 40s 160ms/step - loss: 0.5962 - accuracy: 0.6811 - val_loss: 0.5509 - val_accuracy: 0.7210\n",
      "Epoch 4/25\n",
      "250/250 [==============================] - 39s 156ms/step - loss: 0.5529 - accuracy: 0.7185 - val_loss: 0.5193 - val_accuracy: 0.7480\n",
      "Epoch 5/25\n",
      "250/250 [==============================] - 40s 158ms/step - loss: 0.5266 - accuracy: 0.7365 - val_loss: 0.5336 - val_accuracy: 0.7335\n",
      "Epoch 6/25\n",
      "250/250 [==============================] - 39s 157ms/step - loss: 0.4984 - accuracy: 0.7605 - val_loss: 0.5697 - val_accuracy: 0.7145\n",
      "Epoch 7/25\n",
      "250/250 [==============================] - 39s 157ms/step - loss: 0.4811 - accuracy: 0.7688 - val_loss: 0.5424 - val_accuracy: 0.7420\n",
      "Epoch 8/25\n",
      "250/250 [==============================] - 40s 158ms/step - loss: 0.4722 - accuracy: 0.7724 - val_loss: 0.5395 - val_accuracy: 0.7260\n",
      "Epoch 9/25\n",
      "250/250 [==============================] - 40s 161ms/step - loss: 0.4542 - accuracy: 0.7819 - val_loss: 0.4762 - val_accuracy: 0.7735\n",
      "Epoch 10/25\n",
      "250/250 [==============================] - 39s 156ms/step - loss: 0.4378 - accuracy: 0.7943 - val_loss: 0.4732 - val_accuracy: 0.7900\n",
      "Epoch 11/25\n",
      "250/250 [==============================] - 40s 158ms/step - loss: 0.4183 - accuracy: 0.8112 - val_loss: 0.4956 - val_accuracy: 0.7635\n",
      "Epoch 12/25\n",
      "250/250 [==============================] - 39s 157ms/step - loss: 0.4007 - accuracy: 0.8200 - val_loss: 0.4653 - val_accuracy: 0.7895\n",
      "Epoch 13/25\n",
      "250/250 [==============================] - 39s 158ms/step - loss: 0.3948 - accuracy: 0.8195 - val_loss: 0.4736 - val_accuracy: 0.7950\n",
      "Epoch 14/25\n",
      "250/250 [==============================] - 40s 158ms/step - loss: 0.3900 - accuracy: 0.8239 - val_loss: 0.4707 - val_accuracy: 0.7955\n",
      "Epoch 15/25\n",
      "250/250 [==============================] - 39s 155ms/step - loss: 0.3724 - accuracy: 0.8349 - val_loss: 0.4877 - val_accuracy: 0.7885\n",
      "Epoch 16/25\n",
      "250/250 [==============================] - 39s 158ms/step - loss: 0.3443 - accuracy: 0.8472 - val_loss: 0.4708 - val_accuracy: 0.7900\n",
      "Epoch 17/25\n",
      "250/250 [==============================] - 40s 159ms/step - loss: 0.3384 - accuracy: 0.8522 - val_loss: 0.4807 - val_accuracy: 0.7960\n",
      "Epoch 18/25\n",
      "250/250 [==============================] - 40s 158ms/step - loss: 0.3312 - accuracy: 0.8528 - val_loss: 0.5145 - val_accuracy: 0.7840\n",
      "Epoch 19/25\n",
      "250/250 [==============================] - 39s 154ms/step - loss: 0.3216 - accuracy: 0.8631 - val_loss: 0.4569 - val_accuracy: 0.7905\n",
      "Epoch 20/25\n",
      "250/250 [==============================] - 40s 160ms/step - loss: 0.3040 - accuracy: 0.8752 - val_loss: 0.4776 - val_accuracy: 0.7965\n",
      "Epoch 21/25\n",
      "250/250 [==============================] - 40s 160ms/step - loss: 0.2907 - accuracy: 0.8765 - val_loss: 0.5192 - val_accuracy: 0.7860\n",
      "Epoch 22/25\n",
      "250/250 [==============================] - 40s 160ms/step - loss: 0.2833 - accuracy: 0.8825 - val_loss: 0.5145 - val_accuracy: 0.7805\n",
      "Epoch 23/25\n",
      "250/250 [==============================] - 38s 150ms/step - loss: 0.2819 - accuracy: 0.8791 - val_loss: 0.5077 - val_accuracy: 0.7930\n",
      "Epoch 24/25\n",
      "250/250 [==============================] - 38s 151ms/step - loss: 0.2522 - accuracy: 0.8930 - val_loss: 0.5155 - val_accuracy: 0.8020\n",
      "Epoch 25/25\n",
      "250/250 [==============================] - 38s 151ms/step - loss: 0.2446 - accuracy: 0.9025 - val_loss: 0.5238 - val_accuracy: 0.7985\n"
     ]
    },
    {
     "data": {
      "text/plain": [
       "<keras.callbacks.History at 0x2a5765a6f70>"
      ]
     },
     "execution_count": 13,
     "metadata": {},
     "output_type": "execute_result"
    }
   ],
   "source": [
    "cnn.fit(x = training_set, validation_data = test_set, epochs = 25)"
   ]
  },
  {
   "cell_type": "markdown",
   "id": "07ef9ed0-edb2-41ff-8eb2-27ef9301267b",
   "metadata": {},
   "source": [
    "## Part 4 - Making a single prediction"
   ]
  },
  {
   "cell_type": "markdown",
   "id": "5a614a3f-5b4b-47c7-8326-6ad0f8697914",
   "metadata": {},
   "source": [
    "load_img: Resmi yükler.\n",
    "\n",
    "target_size: Eğitimdeki boyutla aynı hale getirir (64x64).\n",
    "\n",
    "img_to_array: NumPy dizisine çevirir.\n",
    "\n",
    "expand_dims: Tek resim olduğu için batch boyutunu ekler.\n",
    "\n",
    "predict: Olasılık tahmini yapar.\n",
    "\n",
    "class_indices: Modelin hangi etiketi hangi sayıya atadığını gösterir."
   ]
  },
  {
   "cell_type": "code",
   "execution_count": 14,
   "id": "dc91b515-24f5-4e36-bcdf-4854c87140ad",
   "metadata": {},
   "outputs": [
    {
     "name": "stdout",
     "output_type": "stream",
     "text": [
      "1/1 [==============================] - 0s 157ms/step\n"
     ]
    }
   ],
   "source": [
    "import numpy as np\n",
    "from tensorflow.keras.preprocessing import image\n",
    "test_image = image.load_img('dataset/single_prediction/cat_or_dog_1.jpg', target_size = (64, 64)) #resimleri 64 64 yapmıştık o yüzden bunuda yapıyoruz\n",
    "test_image = image.img_to_array(test_image)  # Resmi NumPy array'e çevir\n",
    "test_image = np.expand_dims(test_image, axis = 0) # (1, 64, 64, 3) şekline getir\n",
    "result = cnn.predict(test_image)\n",
    "training_set.class_indices # {'cats': 0, 'dogs': 1}\n",
    "if result[0][0] == 1:\n",
    "  prediction = 'dog'\n",
    "else:\n",
    "  prediction = 'cat'"
   ]
  },
  {
   "cell_type": "code",
   "execution_count": 15,
   "id": "e2f66eb8-4e60-4ce8-b7b8-7869c5a86ffd",
   "metadata": {},
   "outputs": [
    {
     "name": "stdout",
     "output_type": "stream",
     "text": [
      "dog\n"
     ]
    }
   ],
   "source": [
    "print(prediction)"
   ]
  },
  {
   "cell_type": "code",
   "execution_count": 16,
   "id": "df9676cd-726b-4e87-ab8f-efc97d072d31",
   "metadata": {},
   "outputs": [
    {
     "name": "stdout",
     "output_type": "stream",
     "text": [
      "1/1 [==============================] - 0s 34ms/step\n",
      "cat\n"
     ]
    }
   ],
   "source": [
    "import numpy as np\n",
    "from tensorflow.keras.preprocessing import image\n",
    "test_image = image.load_img('dataset/single_prediction/cat_or_dog_2.jpg', target_size = (64, 64)) #resimleri 64 64 yapmıştık o yüzden bunuda yapıyoruz\n",
    "test_image = image.img_to_array(test_image)  # Resmi NumPy array'e çevir\n",
    "test_image = np.expand_dims(test_image, axis = 0) # (1, 64, 64, 3) şekline getir\n",
    "result = cnn.predict(test_image)\n",
    "training_set.class_indices # {'cats': 0, 'dogs': 1}\n",
    "if result[0][0] == 1:\n",
    "  prediction = 'dog'\n",
    "else:\n",
    "  prediction = 'cat'\n",
    "print(prediction)"
   ]
  },
  {
   "cell_type": "code",
   "execution_count": 19,
   "id": "5228d831-349a-457b-a641-8785e25991de",
   "metadata": {},
   "outputs": [
    {
     "name": "stdout",
     "output_type": "stream",
     "text": [
      "1/1 [==============================] - 0s 32ms/step\n",
      "cat\n"
     ]
    }
   ],
   "source": [
    "import numpy as np\n",
    "from tensorflow.keras.preprocessing import image\n",
    "test_image = image.load_img('dataset/single_prediction/cat_or_dog_5.jpg', target_size = (64, 64)) #resimleri 64 64 yapmıştık o yüzden bunuda yapıyoruz\n",
    "test_image = image.img_to_array(test_image)  # Resmi NumPy array'e çevir\n",
    "test_image = np.expand_dims(test_image, axis = 0) # (1, 64, 64, 3) şekline getir\n",
    "result = cnn.predict(test_image)\n",
    "training_set.class_indices # {'cats': 0, 'dogs': 1}\n",
    "if result[0][0] == 1:\n",
    "  prediction = 'dog'\n",
    "else:\n",
    "  prediction = 'cat'\n",
    "print(prediction)"
   ]
  },
  {
   "cell_type": "code",
   "execution_count": null,
   "id": "bf307071-0d27-4b70-a616-6cfb56334f36",
   "metadata": {},
   "outputs": [],
   "source": []
  }
 ],
 "metadata": {
  "kernelspec": {
   "display_name": "Python 3 (ipykernel)",
   "language": "python",
   "name": "python3"
  },
  "language_info": {
   "codemirror_mode": {
    "name": "ipython",
    "version": 3
   },
   "file_extension": ".py",
   "mimetype": "text/x-python",
   "name": "python",
   "nbconvert_exporter": "python",
   "pygments_lexer": "ipython3",
   "version": "3.9.0"
  }
 },
 "nbformat": 4,
 "nbformat_minor": 5
}
