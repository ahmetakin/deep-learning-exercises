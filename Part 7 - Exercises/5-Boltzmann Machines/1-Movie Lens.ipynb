{
 "cells": [
  {
   "cell_type": "code",
   "execution_count": 2,
   "id": "2d3bcfd1-ba78-4295-b274-5eb3e3cc5a91",
   "metadata": {},
   "outputs": [],
   "source": [
    "import numpy as np\n",
    "import pandas as pd\n",
    "import torch\n",
    "import torch.nn as nn\n",
    "from torch.utils.data import DataLoader, TensorDataset\n",
    "\n",
    "device = torch.device(\"cuda\" if torch.cuda.is_available() else \"cpu\")"
   ]
  },
  {
   "cell_type": "code",
   "execution_count": 3,
   "id": "4054102c-58f8-479d-b3d9-96859aadb48c",
   "metadata": {},
   "outputs": [],
   "source": [
    "# 1) Veri yükleme (ml-100k split)\n",
    "train = pd.read_csv(\"ml-100k/u1.base\", delimiter=\"\\t\", header=None, names=[\"user\",\"item\",\"rating\",\"ts\"])\n",
    "test  = pd.read_csv(\"ml-100k/u1.test\",  delimiter=\"\\t\", header=None, names=[\"user\",\"item\",\"rating\",\"ts\"])"
   ]
  },
  {
   "cell_type": "code",
   "execution_count": 5,
   "id": "b3d48336-e53f-4b1d-a304-6741cc9e1211",
   "metadata": {},
   "outputs": [
    {
     "name": "stdout",
     "output_type": "stream",
     "text": [
      "Kullanıcı sayısı: 943 , film sayısı: 1682\n"
     ]
    }
   ],
   "source": [
    "nb_users = max(train.user.max(), test.user.max())\n",
    "nb_items = max(train.item.max(), test.item.max())\n",
    "\n",
    "print(f\"Kullanıcı sayısı: {nb_users} , film sayısı: {nb_items}\")\n"
   ]
  },
  {
   "cell_type": "code",
   "execution_count": 7,
   "id": "db0e4de9-4abf-4a77-b29f-1fb541b6ff28",
   "metadata": {},
   "outputs": [
    {
     "name": "stdout",
     "output_type": "stream",
     "text": [
      "Kullanıcı matrisi: [[5. 3. 4. ... 0. 0. 0.]\n",
      " [4. 0. 0. ... 0. 0. 0.]\n",
      " [0. 0. 0. ... 0. 0. 0.]\n",
      " ...\n",
      " [5. 0. 0. ... 0. 0. 0.]\n",
      " [0. 0. 0. ... 0. 0. 0.]\n",
      " [0. 5. 0. ... 0. 0. 0.]]-(943, 1682) , film matrisi: [[0. 0. 0. ... 0. 0. 0.]\n",
      " [0. 0. 0. ... 0. 0. 0.]\n",
      " [0. 0. 0. ... 0. 0. 0.]\n",
      " ...\n",
      " [0. 0. 0. ... 0. 0. 0.]\n",
      " [0. 0. 0. ... 0. 0. 0.]\n",
      " [0. 0. 0. ... 0. 0. 0.]]-(943, 1682)\n"
     ]
    }
   ],
   "source": [
    "def to_user_item_matrix(df, nb_users, nb_items):\n",
    "    X = np.zeros((nb_users, nb_items), dtype=np.float32)\n",
    "    for u, it, r, _ in df.values:\n",
    "        X[u-1, it-1] = r\n",
    "    return X\n",
    "\n",
    "train_mat = to_user_item_matrix(train, nb_users, nb_items)\n",
    "test_mat  = to_user_item_matrix(test,  nb_users, nb_items)\n",
    "\n",
    "print(f\"Kullanıcı matrisi: {train_mat}-{train_mat.shape} , film matrisi: {test_mat}-{test_mat.shape}\")"
   ]
  },
  {
   "cell_type": "code",
   "execution_count": 8,
   "id": "0a6df258-231a-4d11-99d1-2eb076ca0be2",
   "metadata": {},
   "outputs": [],
   "source": [
    "# 2) Binarize + mask\n",
    "#  rating == 0 -> bilinmiyor (-1); 1-2 -> 0; 3-5 -> 1\n",
    "def binarize(x):\n",
    "    y = x.copy()\n",
    "    y[y == 0]  = -1.0\n",
    "    y[(y==1) | (y==2)] = 0.0\n",
    "    y[y >= 3]  = 1.0\n",
    "    return y\n",
    "\n",
    "train_bin = binarize(train_mat)\n",
    "test_bin  = binarize(test_mat)\n",
    "\n",
    "train_t = torch.tensor(train_bin, device=device)\n",
    "test_t  = torch.tensor(test_bin,  device=device)"
   ]
  },
  {
   "cell_type": "code",
   "execution_count": 9,
   "id": "3e3c8927-b929-455b-96ec-cc67c185db19",
   "metadata": {},
   "outputs": [],
   "source": [
    "# 3) RBM tanımı (Bernoulli-Bernoulli)\n",
    "class RBM(nn.Module):\n",
    "    def __init__(self, nv, nh):\n",
    "        super().__init__()\n",
    "        # W: nh x nv (PyTorch param değil; manuel güncelleyeceğiz)\n",
    "        self.W = torch.randn(nh, nv, device=device) * 0.01\n",
    "        self.hbias = torch.zeros(1, nh, device=device)\n",
    "        self.vbias = torch.zeros(1, nv, device=device)\n",
    "\n",
    "    def sample_h(self, v):\n",
    "        # p(h=1|v) = sigmoid(v W^T + hbias)\n",
    "        prob = torch.sigmoid(v @ self.W.t() + self.hbias)\n",
    "        return prob, torch.bernoulli(prob)\n",
    "\n",
    "    def sample_v(self, h):\n",
    "        # p(v=1|h) = sigmoid(h W + vbias)\n",
    "        prob = torch.sigmoid(h @ self.W + self.vbias)\n",
    "        return prob, torch.bernoulli(prob)\n",
    "\n",
    "    @torch.no_grad()\n",
    "    def update(self, v0, vk, ph0, phk, lr=0.01, momentum=0.5, weight_decay=1e-4,\n",
    "               vW=None, vh=None, vv=None):\n",
    "        # momentum buffer'ları\n",
    "        if vW is None:\n",
    "            vW = torch.zeros_like(self.W)\n",
    "            vh = torch.zeros_like(self.hbias)\n",
    "            vv = torch.zeros_like(self.vbias)\n",
    "\n",
    "        dW = (ph0.t() @ v0 - phk.t() @ vk) / v0.size(0)  # ortalama\n",
    "        db = torch.sum(v0 - vk, dim=0, keepdim=True) / v0.size(0)\n",
    "        da = torch.sum(ph0 - phk, dim=0, keepdim=True) / v0.size(0)\n",
    "\n",
    "        # weight decay (L2 benzeri)\n",
    "        dW -= weight_decay * self.W\n",
    "\n",
    "        # momentum güncellemesi\n",
    "        vW = momentum * vW + lr * dW\n",
    "        vv = momentum * vv + lr * db\n",
    "        vh = momentum * vh + lr * da\n",
    "\n",
    "        self.W     += vW\n",
    "        self.vbias += vv\n",
    "        self.hbias += vh\n",
    "        return vW, vh, vv\n",
    "\n",
    "nv, nh = nb_items, 128\n",
    "rbm = RBM(nv, nh)"
   ]
  },
  {
   "cell_type": "code",
   "execution_count": 10,
   "id": "2bd800cc-d972-4d52-972d-79521df7560d",
   "metadata": {},
   "outputs": [
    {
     "name": "stdout",
     "output_type": "stream",
     "text": [
      "Epoch 01 | train recon loss: 0.4340\n",
      "Epoch 02 | train recon loss: 0.3196\n",
      "Epoch 03 | train recon loss: 0.2990\n",
      "Epoch 04 | train recon loss: 0.2869\n",
      "Epoch 05 | train recon loss: 0.2815\n",
      "Epoch 06 | train recon loss: 0.2765\n",
      "Epoch 07 | train recon loss: 0.2772\n",
      "Epoch 08 | train recon loss: 0.2713\n",
      "Epoch 09 | train recon loss: 0.2711\n",
      "Epoch 10 | train recon loss: 0.2686\n",
      "Epoch 11 | train recon loss: 0.2676\n",
      "Epoch 12 | train recon loss: 0.2651\n",
      "Epoch 13 | train recon loss: 0.2637\n",
      "Epoch 14 | train recon loss: 0.2645\n",
      "Epoch 15 | train recon loss: 0.2617\n"
     ]
    }
   ],
   "source": [
    "# 4) Mini-batch eğitim (CD-k)\n",
    "batch_size = 128\n",
    "epochs = 15\n",
    "k = 5          # CD-k adımı\n",
    "lr = 0.05\n",
    "momentum = 0.5\n",
    "weight_decay = 1e-4\n",
    "\n",
    "dataset = TensorDataset(train_t)\n",
    "loader = DataLoader(dataset, batch_size=batch_size, shuffle=True, drop_last=True)\n",
    "\n",
    "vW = vh = vv = None\n",
    "for epoch in range(1, epochs+1):\n",
    "    running = 0.0\n",
    "    cnt = 0\n",
    "    for (v0,) in loader:\n",
    "        # v0: (B, nv)\n",
    "        vk = v0.clone()\n",
    "        # mask: bilinmeyenler (-1) bu pozisyonları koru\n",
    "        mask = (v0 >= 0).float()\n",
    "\n",
    "        ph0, _ = rbm.sample_h(v0)\n",
    "        for _ in range(k):\n",
    "            _, hk = rbm.sample_h(vk)\n",
    "            pvk, vk_sample = rbm.sample_v(hk)\n",
    "            # bilinmeyen pozisyonları (mask==0) v0’dan taşımayız; sadece bilinenleri güncelliyoruz\n",
    "            vk = v0 * (1 - mask) + vk_sample * mask\n",
    "\n",
    "        phk, _ = rbm.sample_h(vk)\n",
    "\n",
    "        vW, vh, vv = rbm.update(v0, vk, ph0, phk, lr, momentum, weight_decay, vW, vh, vv)\n",
    "\n",
    "        # rekonstrüksiyon hatası: sadece bilinenlerde\n",
    "        loss = torch.mean(torch.abs(v0[mask.bool()] - vk[mask.bool()]))\n",
    "        running += loss.item()\n",
    "        cnt += 1\n",
    "    print(f\"Epoch {epoch:02d} | train recon loss: {running/cnt:.4f}\")"
   ]
  },
  {
   "cell_type": "code",
   "execution_count": 11,
   "id": "357da99e-7faf-4260-813e-ec40746d747d",
   "metadata": {},
   "outputs": [
    {
     "name": "stdout",
     "output_type": "stream",
     "text": [
      "Test recon loss: 0.2696119248867035\n"
     ]
    }
   ],
   "source": [
    "# 5) Test rekonstrüksiyon hatası\n",
    "with torch.no_grad():\n",
    "    v = train_t  # görünür başlangıç olarak train’i kullan (standart yaklaşım)\n",
    "    ph, _ = rbm.sample_h(v)\n",
    "    pv, _ = rbm.sample_v(ph)\n",
    "    mask_te = (test_t >= 0).float()\n",
    "    test_loss = torch.mean(torch.abs(test_t[mask_te.bool()] - pv[mask_te.bool()]))\n",
    "    print(\"Test recon loss:\", float(test_loss))"
   ]
  },
  {
   "cell_type": "code",
   "execution_count": 12,
   "id": "5bd25efb-8f8a-4b96-a311-d77fa1014f44",
   "metadata": {},
   "outputs": [
    {
     "name": "stdout",
     "output_type": "stream",
     "text": [
      "Precision@10=0.1009 | Recall@10=0.0270\n"
     ]
    }
   ],
   "source": [
    "def topk_metrics(train_bin, test_bin, proba, K=10):\n",
    "    # train'de zaten 1 olanları öneriden hariç tutmak istersen maskelersin.\n",
    "    P = []\n",
    "    R = []\n",
    "    for u in range(train_bin.shape[0]):\n",
    "        # testteki pozitifler\n",
    "        pos = np.where(test_bin[u] == 1.0)[0]\n",
    "        if len(pos) == 0:\n",
    "            continue\n",
    "        scores = proba[u].copy()\n",
    "\n",
    "        # (Opsiyonel) zaten train'de 1 olanları öneriden çıkar\n",
    "        already_pos = np.where(train_bin[u] == 1.0)[0]\n",
    "        scores[already_pos] = -1e9\n",
    "\n",
    "        topk = np.argsort(scores)[-K:][::-1]\n",
    "        hit = len(set(topk) & set(pos))\n",
    "        P.append(hit / K)\n",
    "        R.append(hit / len(pos))\n",
    "    return float(np.mean(P)), float(np.mean(R))\n",
    "\n",
    "with torch.no_grad():\n",
    "    ph, _ = rbm.sample_h(train_t)\n",
    "    pv, _ = rbm.sample_v(ph)      # öneri olasılıkları ~ p(v=1|h)\n",
    "    proba = pv.detach().cpu().numpy()\n",
    "    P10, R10 = topk_metrics(train_bin, test_bin, proba, K=10)\n",
    "    print(f\"Precision@10={P10:.4f} | Recall@10={R10:.4f}\")\n"
   ]
  },
  {
   "cell_type": "code",
   "execution_count": 18,
   "id": "2e9f5a4e-54a4-403a-aefc-f0a1640b608b",
   "metadata": {},
   "outputs": [],
   "source": [
    "# 1) Film başlıklarını oku (ml-1m için)\n",
    "# movies.dat biçimi: MovieID::Title::Genres\n",
    "movies = pd.read_csv(\"ml-1m/movies.dat\", sep=\"::\", header=None, engine=\"python\", encoding=\"latin-1\")\n",
    "movies.columns = [\"movie_id\", \"title\", \"genres\"]\n",
    "\n",
    "# 2) Yardımcı: kullanıcı vektörünü al (binarize edilmiş train_bin'den)\n",
    "#    train_bin: (nb_users, nb_items) numpy float32; 1=pozitif, 0=negatif, -1=bilinmiyor\n",
    "def get_user_vector(user_id_1_based, train_bin):\n",
    "    # RBM kodunda kullanıcı indeksleri 0-bazlı; MovieLens ise 1-bazlı idi\n",
    "    return train_bin[user_id_1_based - 1].copy()\n",
    "\n",
    "# 3) Modelden olasılık skorlarını üret (p(v=1|h))\n",
    "@torch.no_grad()\n",
    "def rbm_predict_proba_for_user(rbm, user_vec_np):\n",
    "    # user_vec_np: shape (nb_items,), değerler {-1,0,1}\n",
    "    v = torch.tensor(user_vec_np, dtype=torch.float32, device=rbm.W.device).unsqueeze(0)  # (1, nv)\n",
    "    ph, _ = rbm.sample_h(v)\n",
    "    pv, _ = rbm.sample_v(ph)   # (1, nv)\n",
    "    return pv.squeeze(0).cpu().numpy()  # (nv,)\n",
    "\n",
    "# 4) Tek kullanıcı için top-K öneri\n",
    "def recommend_topk_for_user(user_id_1b, K, rbm, train_bin, movies_df):\n",
    "    user_vec = get_user_vector(user_id_1b, train_bin)\n",
    "    proba = rbm_predict_proba_for_user(rbm, user_vec)\n",
    "\n",
    "    # Zaten kullanıcının pozitif verdiği filmleri öneriden çıkar (yeni öneri)\n",
    "    already_pos = np.where(user_vec == 1.0)[0]\n",
    "    proba[already_pos] = -1e9\n",
    "\n",
    "    # (Opsiyonel) açıkça 0 verdiği (beğenmediği) filmleri de çıkarabilirsin:\n",
    "    # already_neg = np.where(user_vec == 0.0)[0]\n",
    "    # proba[already_neg] = -1e9\n",
    "\n",
    "    topk_idx = np.argsort(proba)[-K:][::-1]\n",
    "    # MovieID’ler 1-bazlı olduğu için +1\n",
    "    rec_movie_ids = (topk_idx + 1)\n",
    "\n",
    "    # Başlıkları eşleştir\n",
    "    rec = movies_df[movies_df[\"movie_id\"].isin(rec_movie_ids)][[\"movie_id\",\"title\",\"genres\"]]\n",
    "    # Sıralamayı proba’ya göre yapalım\n",
    "    order = {mid: proba[mid-1] for mid in rec_movie_ids}\n",
    "    rec = rec.sort_values(by=\"movie_id\", key=lambda s: s.map(order), ascending=False)\n",
    "    rec[\"score\"] = rec[\"movie_id\"].map(order)\n",
    "    return rec.reset_index(drop=True)"
   ]
  },
  {
   "cell_type": "code",
   "execution_count": 65,
   "id": "52a5b1bf-9bc9-477f-9206-b62cd1d5d3c3",
   "metadata": {},
   "outputs": [
    {
     "name": "stdout",
     "output_type": "stream",
     "text": [
      "   movie_id                                    title  \\\n",
      "0       483                  King of the Hill (1993)   \n",
      "1       169  Free Willy 2: The Adventure Home (1995)   \n",
      "2       498                         Mr. Jones (1993)   \n",
      "3       315                   Specialist, The (1994)   \n",
      "4       408                         8 Seconds (1994)   \n",
      "5       603                     Bye Bye, Love (1995)   \n",
      "6        64                     Two if by Sea (1996)   \n",
      "7       316                          Stargate (1994)   \n",
      "8       318         Shawshank Redemption, The (1994)   \n",
      "9       191               Scarlet Letter, The (1995)   \n",
      "\n",
      "                       genres     score  \n",
      "0                       Drama  0.987347  \n",
      "1  Adventure|Children's|Drama  0.983292  \n",
      "2               Drama|Romance  0.981222  \n",
      "3                      Action  0.979614  \n",
      "4                       Drama  0.979212  \n",
      "5                      Comedy  0.978529  \n",
      "6              Comedy|Romance  0.978144  \n",
      "7     Action|Adventure|Sci-Fi  0.977154  \n",
      "8                       Drama  0.975173  \n",
      "9                       Drama  0.974282  \n"
     ]
    }
   ],
   "source": [
    "# --- Örnek kullanım:\n",
    "user_id = 10\n",
    "K = 10\n",
    "recs = recommend_topk_for_user(user_id, K, rbm, train_bin, movies)\n",
    "print(recs)"
   ]
  },
  {
   "cell_type": "code",
   "execution_count": null,
   "id": "519dcac2-2fa6-4acf-9ed2-916f1a23913d",
   "metadata": {},
   "outputs": [],
   "source": []
  }
 ],
 "metadata": {
  "kernelspec": {
   "display_name": "Python 3 (ipykernel)",
   "language": "python",
   "name": "python3"
  },
  "language_info": {
   "codemirror_mode": {
    "name": "ipython",
    "version": 3
   },
   "file_extension": ".py",
   "mimetype": "text/x-python",
   "name": "python",
   "nbconvert_exporter": "python",
   "pygments_lexer": "ipython3",
   "version": "3.9.0"
  }
 },
 "nbformat": 4,
 "nbformat_minor": 5
}
