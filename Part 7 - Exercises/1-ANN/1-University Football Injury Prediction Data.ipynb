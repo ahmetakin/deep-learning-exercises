{
 "cells": [
  {
   "cell_type": "markdown",
   "id": "6677dad4-3d66-44a1-bf25-2750522eaaed",
   "metadata": {},
   "source": [
    "Anladım 👍 Sen aslında Kaggle sayfasındaki **About Dataset** bölümündeki açıklamayı JupyterLab için uygun bir **Markdown data card** formatında istiyorsun. Ayrıca ANN (Artificial Neural Network) ile deneyeceğini söyledin. Sana uygun şekilde Markdown çıktısını hazırladım:\n",
    "\n",
    "---\n",
    "\n",
    "# 🏟️ University Football Injury Prediction Dataset\n",
    "\n",
    "**Kaynak:** Kaggle — *University Football Injury Prediction Dataset*\n",
    "**Amaç:** Üniversite futbolcularının bir sonraki akademik sezonda sakatlanıp sakatlanmayacağını tahmin etmek için makine öğrenmesi modelleri geliştirmek.\n",
    "\n",
    "---\n",
    "\n",
    "## 🎯 Overview\n",
    "\n",
    "* **Örnekler:** 800 Çinli üniversite futbolcusu\n",
    "* **Özellikler:** 18 girdi + 1 hedef etiket\n",
    "* **Görev:** İkili sınıflandırma (0 = Sakatlık Yok, 1 = Sakatlık Var)\n",
    "* **Denge:** İyi dengelenmiş veri seti\n",
    "* **Yaş Aralığı:** 18–24 yıl (üniversite öğrencileri)\n",
    "\n",
    "---\n",
    "\n",
    "## 📊 Feature Categories\n",
    "\n",
    "### ⚙️ Physical Characteristics (4 özellik)\n",
    "\n",
    "* Age, Height, Weight, BMI\n",
    "* Standart sağlık muayeneleri ile ölçülmüş\n",
    "\n",
    "### ⚽ Football-Specific Metrics (4 özellik)\n",
    "\n",
    "* Playing position, training hours/week, matches played, injury history\n",
    "* Resmî kayıtlar ve koç değerlendirmeleri\n",
    "\n",
    "### 🏋️ Physical Fitness Assessment (6 özellik)\n",
    "\n",
    "* Knee strength, hamstring flexibility, reaction time, balance, sprint speed, agility\n",
    "* Profesyonel testlerle elde edilmiş\n",
    "\n",
    "### 🛌 Lifestyle Factors (3 özellik)\n",
    "\n",
    "* Sleep hours, stress level, nutrition quality\n",
    "* Anket ve valide edilmiş ölçekler\n",
    "\n",
    "### 🔥 Training Compliance (1 özellik)\n",
    "\n",
    "* Warm-up routine adherence (0 = Poor, 1 = Good)\n",
    "\n",
    "---\n",
    "\n",
    "## 🎯 Target Variable\n",
    "\n",
    "**Injury\\_Next\\_Season**\n",
    "\n",
    "* İkili sınıflandırma\n",
    "* Sakatlık tanımı: ≥7 gün spordan uzak kalmaya neden olan antrenman/müsabaka kaynaklı durum\n",
    "* Üniversite sağlık merkezi + koç raporları ile doğrulanmış\n",
    "\n",
    "---\n",
    "\n",
    "## 🔬 Data Quality\n",
    "\n",
    "* **Toplama Dönemi:** Her akademik yılın ilk 4 haftasında\n",
    "* **Doğrulama:** Medikal kayıtlar, koç raporları, öğrenci anketleri\n",
    "* **Kontrol:** Spor hekimliği uzmanlarınca gözden geçirilmiş\n",
    "* **Eksik Veri:** Minimal\n",
    "\n",
    "---\n",
    "\n",
    "## 🚀 Potential Applications\n",
    "\n",
    "* Spor hekimliği araştırmaları\n",
    "* Önleyici sağlık stratejileri\n",
    "* Üniversite sporcu yönetimi\n",
    "* ML algoritma validasyonu\n",
    "\n",
    "---\n",
    "\n",
    "## 📈 Suggested Approaches\n",
    "\n",
    "* **ML Modelleri:** Logistic Regression, Random Forest, SVM, XGBoost\n",
    "* **Değerlendirme Metrikleri:** Accuracy, Precision, Recall, F1-Score, AUC-ROC\n",
    "* **Doğrulama:** Stratified cross-validation\n",
    "\n",
    "---\n",
    "\n",
    "## 🏆 Research Value\n",
    "\n",
    "Bu veri seti spor bilimi ile makine öğrenmesini birleştirerek sakatlık tahminine yönelik değerli bir araştırma ortamı sunar. Özellikle spor hekimliği, önleyici sağlık ve uygulamalı ML alanlarında önemlidir.\n",
    "\n",
    "---\n",
    "\n",
    "## ⚡ ANN (Artificial Neural Network) ile Deneme İçin Öneri\n",
    "\n",
    "JupyterLab’de ANN için tipik başlangıç pipeline’ı:\n",
    "\n",
    "```python\n",
    "import pandas as pd\n",
    "import torch\n",
    "import torch.nn as nn\n",
    "import torch.optim as optim\n",
    "from sklearn.model_selection import train_test_split\n",
    "from sklearn.preprocessing import StandardScaler\n",
    "\n",
    "# Veri yükleme\n",
    "df = pd.read_csv(\"football_injury.csv\")\n",
    "\n",
    "X = df.drop(columns=[\"Injury_Next_Season\"])\n",
    "y = df[\"Injury_Next_Season\"]\n",
    "\n",
    "# Normalizasyon\n",
    "scaler = StandardScaler()\n",
    "X_scaled = scaler.fit_transform(X)\n",
    "\n",
    "X_train, X_test, y_train, y_test = train_test_split(\n",
    "    X_scaled, y, test_size=0.2, stratify=y, random_state=42\n",
    ")\n",
    "\n",
    "# Torch tensörleri\n",
    "X_train = torch.tensor(X_train, dtype=torch.float32)\n",
    "y_train = torch.tensor(y_train.values, dtype=torch.float32).unsqueeze(1)\n",
    "X_test = torch.tensor(X_test, dtype=torch.float32)\n",
    "y_test = torch.tensor(y_test.values, dtype=torch.float32).unsqueeze(1)\n",
    "\n",
    "# Basit ANN\n",
    "class ANN(nn.Module):\n",
    "    def __init__(self, input_dim):\n",
    "        super().__init__()\n",
    "        self.layers = nn.Sequential(\n",
    "            nn.Linear(input_dim, 32),\n",
    "            nn.ReLU(),\n",
    "            nn.Linear(32, 16),\n",
    "            nn.ReLU(),\n",
    "            nn.Linear(16, 1),\n",
    "            nn.Sigmoid()\n",
    "        )\n",
    "    def forward(self, x):\n",
    "        return self.layers(x)\n",
    "\n",
    "model = ANN(X_train.shape[1])\n",
    "criterion = nn.BCELoss()\n",
    "optimizer = optim.Adam(model.parameters(), lr=0.001)\n",
    "\n",
    "# Eğitim\n",
    "for epoch in range(100):\n",
    "    optimizer.zero_grad()\n",
    "    y_pred = model(X_train)\n",
    "    loss = criterion(y_pred, y_train)\n",
    "    loss.backward()\n",
    "    optimizer.step()\n",
    "    if (epoch+1) % 10 == 0:\n",
    "        print(f\"Epoch {epoch+1}, Loss: {loss.item():.4f}\")\n",
    "```\n",
    "\n",
    "---\n",
    "\n",
    "İstersen sana **ANN eğitim raporunu (loss, accuracy, AUC)** otomatik çıkaracak ek kod bloğu da hazırlayabilirim. İstiyor musun?\n"
   ]
  },
  {
   "cell_type": "code",
   "execution_count": 41,
   "id": "38b60f72-898f-410a-a93e-394f2a1b2f68",
   "metadata": {},
   "outputs": [
    {
     "data": {
      "text/plain": [
       "'2.11.1'"
      ]
     },
     "execution_count": 41,
     "metadata": {},
     "output_type": "execute_result"
    }
   ],
   "source": [
    "import numpy as np\n",
    "import pandas as pd\n",
    "import tensorflow as tf\n",
    "from tensorflow import keras\n",
    "from tensorflow.keras import layers\n",
    "tf.__version__"
   ]
  },
  {
   "cell_type": "code",
   "execution_count": 42,
   "id": "617bdd4e-3888-4a9e-83ad-ccf08ff805af",
   "metadata": {},
   "outputs": [],
   "source": [
    "dataset = pd.read_csv(\"football_injury.csv\")"
   ]
  },
  {
   "cell_type": "code",
   "execution_count": 43,
   "id": "f5ffdfde-0ca9-445e-b34a-bd356708aa5c",
   "metadata": {},
   "outputs": [
    {
     "name": "stdout",
     "output_type": "stream",
     "text": [
      "Şekil: (800, 19)\n",
      "İlk sütunlar: ['Age', 'Height_cm', 'Weight_kg', 'Position', 'Training_Hours_Per_Week', 'Matches_Played_Past_Season', 'Previous_Injury_Count', 'Knee_Strength_Score', 'Hamstring_Flexibility', 'Reaction_Time_ms', 'Balance_Test_Score', 'Sprint_Speed_10m_s', 'Agility_Score', 'Sleep_Hours_Per_Night', 'Stress_Level_Score', 'Nutrition_Quality_Score', 'Warmup_Routine_Adherence', 'Injury_Next_Season', 'BMI']\n"
     ]
    }
   ],
   "source": [
    "print(\"Şekil:\", dataset.shape)\n",
    "print(\"İlk sütunlar:\", list(dataset.columns)[:])"
   ]
  },
  {
   "cell_type": "code",
   "execution_count": 44,
   "id": "5e4306a4-0cca-449e-8d83-66d113620846",
   "metadata": {},
   "outputs": [
    {
     "name": "stdout",
     "output_type": "stream",
     "text": [
      "[0 0 1 0 1 0 1 0 0 0 1 1 0 1 1 1 1 1 0 0 0 0 0 0 1 1 1 0 0 0 1 1 0 1 1 1 0\n",
      " 1 0 0 1 1 1 1 0 0 0 0 0 0 1 1 0 1 1 1 0 1 1 1 0 0 0 1 1 0 1 0 1 1 0 1 0 1\n",
      " 1 1 1 0 0 0 0 1 1 1 0 0 0 1 1 1 0 0 1 1 0 0 0 0 1 0 1 0 1 1 1 1 1 0 1 1 0\n",
      " 0 1 1 0 1 0 0 1 1 1 1 1 0 1 1 0 1 1 0 0 1 1 0 1 0 0 1 0 0 1 0 0 1 1 0 1 1\n",
      " 0 0 0 1 0 0 0 0 0 0 0 0 1 0 1 1 1 1 1 1 1 0 1 0 1 1 1 0 1 0 0 0 0 0 1 0 0\n",
      " 1 0 0 0 0 0 0 1 0 0 1 0 1 0 0 1 1 1 0 1 1 1 0 1 0 0 1 1 1 1 1 0 1 1 0 0 1\n",
      " 0 1 1 0 1 0 0 1 0 1 1 1 1 1 0 1 1 1 0 0 0 0 1 0 1 1 1 1 0 0 1 1 0 1 1 0 1\n",
      " 1 1 1 0 0 0 1 1 1 0 0 1 1 0 1 0 1 0 0 1 0 0 1 1 0 0 1 0 1 1 1 0 0 1 0 0 1\n",
      " 1 1 1 0 1 0 0 0 0 0 0 1 0 1 1 1 0 0 0 1 0 0 1 0 0 1 0 0 1 1 1 1 0 0 1 0 0\n",
      " 0 0 1 0 1 1 1 1 0 0 0 0 1 0 1 1 1 0 1 0 1 1 0 1 1 1 0 0 1 1 0 1 1 1 1 0 1\n",
      " 1 0 1 1 1 0 0 0 0 1 0 1 1 0 0 0 1 1 0 1 0 0 0 0 1 1 0 1 1 0 1 1 1 0 1 1 0\n",
      " 0 1 1 0 0 1 0 0 0 0 1 1 0 0 0 1 1 0 0 1 0 1 0 0 0 1 1 0 1 1 1 1 1 1 1 1 0\n",
      " 1 1 0 1 0 0 1 1 1 0 1 1 1 1 1 0 0 0 1 0 1 1 0 0 1 0 1 1 0 1 1 0 1 0 1 1 1\n",
      " 1 1 1 0 0 0 0 0 1 1 0 0 0 1 1 1 0 0 0 0 0 0 0 1 0 1 0 1 0 1 1 0 1 0 0 0 1\n",
      " 0 1 1 0 0 1 1 1 0 1 0 0 0 0 1 0 0 0 0 0 0 1 0 1 0 0 0 1 1 0 1 0 0 1 1 1 0\n",
      " 0 1 0 0 1 0 1 0 1 1 0 0 0 1 1 0 1 0 0 0 0 1 1 0 0 0 1 0 1 1 1 0 1 0 1 1 1\n",
      " 0 1 1 1 0 1 0 0 1 0 0 0 0 1 0 0 0 0 1 0 0 1 0 0 0 1 1 0 0 1 1 0 1 0 0 1 1\n",
      " 0 1 1 1 1 0 0 0 1 0 0 0 0 0 0 0 0 0 0 0 1 1 1 0 1 0 1 0 0 0 0 1 0 1 0 0 0\n",
      " 0 1 1 1 0 1 1 0 0 0 0 1 0 0 0 1 1 1 1 1 0 1 0 1 1 0 0 1 0 0 1 1 0 0 1 0 0\n",
      " 1 1 1 1 0 1 1 1 1 1 1 0 1 0 0 0 1 1 1 0 0 0 0 1 0 1 1 0 0 1 1 1 0 0 0 1 1\n",
      " 1 0 1 1 1 1 0 1 1 1 0 0 0 0 0 1 0 0 0 1 0 0 0 0 1 0 0 0 1 1 1 0 1 1 1 1 0\n",
      " 0 1 0 1 0 1 0 1 1 1 0 1 1 0 1 0 1 0 1 1 1 0 1]\n"
     ]
    }
   ],
   "source": [
    "assert \"Injury_Next_Season\" in dataset.columns, \"Sakatlık sütunu bulunamadı\"\n",
    "y = dataset[\"Injury_Next_Season\"].values\n",
    "print(y)"
   ]
  },
  {
   "cell_type": "code",
   "execution_count": 45,
   "id": "2f8ce143-ece1-48a7-aafb-6d901afc555d",
   "metadata": {},
   "outputs": [
    {
     "name": "stdout",
     "output_type": "stream",
     "text": [
      "     Age  Height_cm  Weight_kg    Position  Training_Hours_Per_Week  \\\n",
      "0     22        173         64  Midfielder                11.575308   \n",
      "1     18        170         67  Midfielder                12.275869   \n",
      "2     22        186         75     Forward                12.254896   \n",
      "3     20        172         62    Defender                 9.006678   \n",
      "4     18        172         94  Midfielder                12.683668   \n",
      "..   ...        ...        ...         ...                      ...   \n",
      "795   22        182         63  Goalkeeper                10.624037   \n",
      "796   21        181         66    Defender                 9.732842   \n",
      "797   24        182         75  Goalkeeper                 5.494318   \n",
      "798   20        188         86  Goalkeeper                10.303923   \n",
      "799   22        186         73  Midfielder                 9.815368   \n",
      "\n",
      "     Matches_Played_Past_Season  Previous_Injury_Count  Knee_Strength_Score  \\\n",
      "0                            36                      1            77.460279   \n",
      "1                            37                      2            72.634442   \n",
      "2                            12                      2            77.064490   \n",
      "3                            11                      1            82.810232   \n",
      "4                            10                      2            76.772859   \n",
      "..                          ...                    ...                  ...   \n",
      "795                          33                      1            72.678400   \n",
      "796                          11                      2            67.290644   \n",
      "797                          17                      3            81.164089   \n",
      "798                          35                      1            71.184901   \n",
      "799                          15                      1            59.709613   \n",
      "\n",
      "     Hamstring_Flexibility  Reaction_Time_ms  Balance_Test_Score  \\\n",
      "0                79.115738        284.487853           91.212476   \n",
      "1                82.541688        250.579249           87.294078   \n",
      "2                75.943631        269.119918           83.440688   \n",
      "3                73.878324        226.376412           87.591894   \n",
      "4                76.653043        229.021042           83.125161   \n",
      "..                     ...               ...                 ...   \n",
      "795              84.620355        240.117111           74.372627   \n",
      "796              70.726745        260.341118           85.392132   \n",
      "797              83.486771        264.192657           84.031046   \n",
      "798              85.585050        204.446478           84.417342   \n",
      "799              72.966692        255.770337           84.186100   \n",
      "\n",
      "     Sprint_Speed_10m_s  Agility_Score  Sleep_Hours_Per_Night  \\\n",
      "0              5.874630      77.599705               8.238293   \n",
      "1              5.796269      94.418987               8.983737   \n",
      "2              5.731209      70.179176               7.229193   \n",
      "3              6.220212      83.473824               7.681029   \n",
      "4              5.385958      87.037256               6.728091   \n",
      "..                  ...            ...                    ...   \n",
      "795            5.789511      78.812645               7.631547   \n",
      "796            5.591874      81.302513               7.676296   \n",
      "797            5.466771      69.857954               6.798035   \n",
      "798            6.543996      73.459174               8.846476   \n",
      "799            5.879201      67.491525               8.109630   \n",
      "\n",
      "     Stress_Level_Score  Nutrition_Quality_Score  Warmup_Routine_Adherence  \\\n",
      "0             46.616415                81.472206                         1   \n",
      "1             49.368037                81.056677                         1   \n",
      "2             43.132808                64.877457                         0   \n",
      "3             51.528529                89.824744                         1   \n",
      "4             52.379718                71.569197                         0   \n",
      "..                  ...                      ...                       ...   \n",
      "795           70.472112                78.795865                         0   \n",
      "796           67.209293                79.008597                         1   \n",
      "797           78.213353                74.379626                         0   \n",
      "798           50.906356                70.320367                         1   \n",
      "799           65.504117                68.115949                         0   \n",
      "\n",
      "           BMI  \n",
      "0    21.383942  \n",
      "1    23.183391  \n",
      "2    21.678807  \n",
      "3    20.957274  \n",
      "4    31.773932  \n",
      "..         ...  \n",
      "795  19.019442  \n",
      "796  20.145905  \n",
      "797  22.642193  \n",
      "798  24.332277  \n",
      "799  21.100705  \n",
      "\n",
      "[800 rows x 18 columns]\n"
     ]
    }
   ],
   "source": [
    "X = dataset.drop(columns=[\"Injury_Next_Season\"])\n",
    "print(X)"
   ]
  },
  {
   "cell_type": "code",
   "execution_count": 46,
   "id": "6f0ae429-a07b-4258-8d32-10f452b81836",
   "metadata": {},
   "outputs": [
    {
     "name": "stdout",
     "output_type": "stream",
     "text": [
      "Sayısal 17 -> ['Age', 'Height_cm', 'Weight_kg', 'Training_Hours_Per_Week', 'Previous_Injury_Count', 'Knee_Strength_Score', 'Hamstring_Flexibility', 'Reaction_Time_ms', 'Balance_Test_Score', 'Sprint_Speed_10m_s', 'Agility_Score', 'Sleep_Hours_Per_Night', 'Stress_Level_Score', 'Nutrition_Quality_Score', 'Warmup_Routine_Adherence', 'BMI', 'Matches_Played_Past_Season']\n",
      "Kategorik 1 -> ['Position']\n"
     ]
    }
   ],
   "source": [
    "num_candidates = [\n",
    "    \"Age\",\n",
    "    \"Height_cm\",\n",
    "    \"Weight_kg\",\n",
    "    \"Training_Hours_Per_Week\",\n",
    "    \"Matches_Played_Past_Seaso\",\n",
    "    \"Previous_Injury_Count\",\n",
    "    \"Knee_Strength_Score\",\n",
    "    \"Hamstring_Flexibility\",\n",
    "    \"Reaction_Time_ms\",\n",
    "    \"Balance_Test_Score\",\n",
    "    \"Sprint_Speed_10m_s\",\n",
    "    \"Agility_Score\",\n",
    "    \"Sleep_Hours_Per_Night\",\n",
    "    \"Stress_Level_Score\",\n",
    "    \"Nutrition_Quality_Score\",\n",
    "    \"Warmup_Routine_Adherence\",\n",
    "    \"BMI\",\n",
    "    \"Matches_Played_Past_Season\"\n",
    "]\n",
    "\n",
    "numeric_cols = [c for c in num_candidates if c in X.columns]\n",
    "categorical_cols = [c for c in X.columns if c not in numeric_cols]\n",
    "\n",
    "print(f\"Sayısal {len(numeric_cols)} -> {numeric_cols}\")\n",
    "print(f\"Kategorik {len(categorical_cols)} -> {categorical_cols[:]}\")"
   ]
  },
  {
   "cell_type": "code",
   "execution_count": 47,
   "id": "107c64aa-25ea-4ee5-8a13-6d908478b2f6",
   "metadata": {},
   "outputs": [],
   "source": [
    "#Dönüşümler\n",
    "from sklearn.impute import SimpleImputer\n",
    "from sklearn.preprocessing import OneHotEncoder, StandardScaler\n",
    "from sklearn.compose import ColumnTransformer\n",
    "from sklearn.pipeline import Pipeline\n",
    "from sklearn.impute import SimpleImputer\n",
    "\n",
    "\n",
    "try:\n",
    "    cat_ohe = OneHotEncoder(handle_unknown=\"ignore\", sparse_output=False)\n",
    "except TypeError:\n",
    "    cat_ohe = OneHotEncoder(handle_unknown=\"ignore\", sparse=False)\n",
    "\n",
    "    \n",
    "numeric_tf = Pipeline(\n",
    "    steps = [\n",
    "        (\"imputer\", SimpleImputer(strategy=\"median\")), #ortalamasına göre eksiklere ekleniyor\n",
    "        (\"scaler\", StandardScaler()) #verileri standartlaştırıyoruz\n",
    "    ]\n",
    ")\n",
    "\n",
    "categorical_tf = Pipeline(\n",
    "    steps = [\n",
    "        (\"imputer\", SimpleImputer(strategy=\"most_frequent\")),  # kategorik eksikler\n",
    "        (\"ohe\", cat_ohe)\n",
    "    ]\n",
    ")\n",
    "\n",
    "\n",
    "preprocess = ColumnTransformer(\n",
    "    transformers = [\n",
    "        (\"num\", numeric_tf, numeric_cols),\n",
    "        (\"cat\",categorical_tf,categorical_cols)\n",
    "    ]\n",
    ")"
   ]
  },
  {
   "cell_type": "code",
   "execution_count": 48,
   "id": "b76224db-6721-436b-8f49-4c367db26553",
   "metadata": {},
   "outputs": [
    {
     "name": "stdout",
     "output_type": "stream",
     "text": [
      "Split: (560, 18) (120, 18) (120, 18)\n"
     ]
    }
   ],
   "source": [
    "from sklearn.model_selection import train_test_split\n",
    "# 4) Train/Valid/Test\n",
    "X_train, X_temp, y_train, y_temp = train_test_split(\n",
    "    X, y, test_size=0.30, stratify=y, random_state=42\n",
    ")\n",
    "X_valid, X_test, y_valid, y_test = train_test_split(\n",
    "    X_temp, y_temp, test_size=0.50, stratify=y_temp, random_state=42\n",
    ")\n",
    "print(\"Split:\", X_train.shape, X_valid.shape, X_test.shape)"
   ]
  },
  {
   "cell_type": "code",
   "execution_count": 49,
   "id": "a2cf88c7-7722-4a84-b407-4fa1d3f8eb61",
   "metadata": {},
   "outputs": [
    {
     "name": "stdout",
     "output_type": "stream",
     "text": [
      "Feature dim: 21\n"
     ]
    }
   ],
   "source": [
    "X_train_p = preprocess.fit_transform(X_train)\n",
    "X_valid_p = preprocess.transform(X_valid)\n",
    "X_test_p  = preprocess.transform(X_test)\n",
    "\n",
    "feature_dim = X_train_p.shape[1]\n",
    "print(\"Feature dim:\", feature_dim)"
   ]
  },
  {
   "cell_type": "code",
   "execution_count": 50,
   "id": "fd23d817-5565-48ce-ba39-975f445fd1dd",
   "metadata": {},
   "outputs": [
    {
     "data": {
      "text/plain": [
       "array([[-1.56026281, -0.46391589, -0.45893068, ...,  0.        ,\n",
       "         0.        ,  1.        ],\n",
       "       [-0.57797257,  1.35379546, -0.866384  , ...,  0.        ,\n",
       "         0.        ,  0.        ],\n",
       "       [-0.08682744,  0.23520386,  0.25411263, ...,  0.        ,\n",
       "         0.        ,  1.        ],\n",
       "       ...,\n",
       "       [-0.57797257,  0.51485176,  0.45783929, ...,  0.        ,\n",
       "         1.        ,  0.        ],\n",
       "       [-1.06911769,  0.79449966, -1.07011066, ...,  0.        ,\n",
       "         0.        ,  1.        ],\n",
       "       [-0.08682744,  1.49361941,  0.55970262, ...,  0.        ,\n",
       "         0.        ,  1.        ]])"
      ]
     },
     "execution_count": 50,
     "metadata": {},
     "output_type": "execute_result"
    }
   ],
   "source": [
    "X_train_p"
   ]
  },
  {
   "cell_type": "code",
   "execution_count": 51,
   "id": "c8a0f095-ffb6-41f1-a26e-983e394b27c1",
   "metadata": {},
   "outputs": [],
   "source": [
    "from sklearn.utils.class_weight import compute_class_weight\n",
    "from sklearn.metrics import (roc_auc_score, roc_curve, average_precision_score,\n",
    "                             precision_recall_curve, classification_report,\n",
    "                             confusion_matrix, accuracy_score, precision_score,\n",
    "                             recall_score, f1_score)"
   ]
  },
  {
   "cell_type": "code",
   "execution_count": 52,
   "id": "11dddafb-afb7-4b2e-8deb-effec78a81c4",
   "metadata": {},
   "outputs": [
    {
     "name": "stdout",
     "output_type": "stream",
     "text": [
      "class_weight: {0: 1.0, 1: 1.0}\n"
     ]
    }
   ],
   "source": [
    "classes = np.unique(y_train)\n",
    "cw = compute_class_weight(class_weight=\"balanced\", classes=classes, y=y_train)\n",
    "class_weight = {int(c): w for c, w in zip(classes, cw)}\n",
    "print(\"class_weight:\", class_weight)"
   ]
  },
  {
   "cell_type": "code",
   "execution_count": 53,
   "id": "2c8aa778-bec5-46fd-98f7-a24533c882db",
   "metadata": {},
   "outputs": [
    {
     "name": "stdout",
     "output_type": "stream",
     "text": [
      "Model: \"sequential\"\n",
      "_________________________________________________________________\n",
      " Layer (type)                Output Shape              Param #   \n",
      "=================================================================\n",
      " dense (Dense)               (None, 64)                1408      \n",
      "                                                                 \n",
      " dropout (Dropout)           (None, 64)                0         \n",
      "                                                                 \n",
      " dense_1 (Dense)             (None, 32)                2080      \n",
      "                                                                 \n",
      " dropout_1 (Dropout)         (None, 32)                0         \n",
      "                                                                 \n",
      " dense_2 (Dense)             (None, 1)                 33        \n",
      "                                                                 \n",
      "=================================================================\n",
      "Total params: 3,521\n",
      "Trainable params: 3,521\n",
      "Non-trainable params: 0\n",
      "_________________________________________________________________\n"
     ]
    }
   ],
   "source": [
    "def build_model(input_dim, dropout=0.3, lr=1e-3):\n",
    "    model = keras.Sequential([\n",
    "        layers.Input(shape=(input_dim,)),\n",
    "        layers.Dense(64, activation=\"relu\"),\n",
    "        layers.Dropout(dropout),\n",
    "        layers.Dense(32, activation=\"relu\"),\n",
    "        layers.Dropout(dropout/2),\n",
    "        layers.Dense(1, activation=\"sigmoid\")\n",
    "    ])\n",
    "    model.compile(\n",
    "        optimizer=keras.optimizers.Adam(learning_rate=lr),\n",
    "        loss=\"binary_crossentropy\",\n",
    "        metrics=[\"accuracy\", keras.metrics.AUC(name=\"auc\"),\n",
    "                 keras.metrics.Precision(name=\"precision\"),\n",
    "                 keras.metrics.Recall(name=\"recall\")]\n",
    "    )\n",
    "    return model\n",
    "\n",
    "model = build_model(feature_dim, dropout=0.3, lr=1e-3)\n",
    "model.summary()"
   ]
  },
  {
   "cell_type": "code",
   "execution_count": 54,
   "id": "6676478f-3560-45bc-9b27-0cdd6b5d9ad8",
   "metadata": {},
   "outputs": [],
   "source": [
    "early = keras.callbacks.EarlyStopping(\n",
    "    monitor=\"val_auc\", mode=\"max\", patience=10, restore_best_weights=True, verbose=1\n",
    ")\n",
    "plateau = keras.callbacks.ReduceLROnPlateau(\n",
    "    monitor=\"val_loss\", factor=0.5, patience=5, min_lr=1e-6, verbose=1\n",
    ")"
   ]
  },
  {
   "cell_type": "code",
   "execution_count": 55,
   "id": "03dfbcbb-af0b-43ed-b63a-fcdb4c87b7d5",
   "metadata": {},
   "outputs": [
    {
     "name": "stdout",
     "output_type": "stream",
     "text": [
      "Epoch 1/100\n",
      "18/18 [==============================] - 2s 30ms/step - loss: 0.6112 - accuracy: 0.6500 - auc: 0.7519 - precision: 0.6135 - recall: 0.8107 - val_loss: 0.5565 - val_accuracy: 0.7667 - val_auc: 0.8514 - val_precision: 0.7286 - val_recall: 0.8500 - lr: 0.0010\n",
      "Epoch 2/100\n",
      "18/18 [==============================] - 0s 6ms/step - loss: 0.4568 - accuracy: 0.8446 - auc: 0.9252 - precision: 0.8362 - recall: 0.8571 - val_loss: 0.4288 - val_accuracy: 0.8500 - val_auc: 0.9258 - val_precision: 0.8500 - val_recall: 0.8500 - lr: 0.0010\n",
      "Epoch 3/100\n",
      "18/18 [==============================] - 0s 6ms/step - loss: 0.3377 - accuracy: 0.9018 - auc: 0.9625 - precision: 0.9061 - recall: 0.8964 - val_loss: 0.3317 - val_accuracy: 0.8667 - val_auc: 0.9539 - val_precision: 0.8793 - val_recall: 0.8500 - lr: 0.0010\n",
      "Epoch 4/100\n",
      "18/18 [==============================] - 0s 6ms/step - loss: 0.2543 - accuracy: 0.9179 - auc: 0.9782 - precision: 0.9270 - recall: 0.9071 - val_loss: 0.2679 - val_accuracy: 0.8833 - val_auc: 0.9664 - val_precision: 0.8833 - val_recall: 0.8833 - lr: 0.0010\n",
      "Epoch 5/100\n",
      "18/18 [==============================] - 0s 7ms/step - loss: 0.2115 - accuracy: 0.9286 - auc: 0.9801 - precision: 0.9286 - recall: 0.9286 - val_loss: 0.2364 - val_accuracy: 0.8833 - val_auc: 0.9693 - val_precision: 0.8966 - val_recall: 0.8667 - lr: 0.0010\n",
      "Epoch 6/100\n",
      "18/18 [==============================] - 0s 9ms/step - loss: 0.1802 - accuracy: 0.9250 - auc: 0.9843 - precision: 0.9440 - recall: 0.9036 - val_loss: 0.2156 - val_accuracy: 0.9083 - val_auc: 0.9721 - val_precision: 0.9016 - val_recall: 0.9167 - lr: 0.0010\n",
      "Epoch 7/100\n",
      "18/18 [==============================] - 0s 7ms/step - loss: 0.1606 - accuracy: 0.9446 - auc: 0.9870 - precision: 0.9431 - recall: 0.9464 - val_loss: 0.2028 - val_accuracy: 0.9167 - val_auc: 0.9747 - val_precision: 0.9032 - val_recall: 0.9333 - lr: 0.0010\n",
      "Epoch 8/100\n",
      "18/18 [==============================] - 0s 6ms/step - loss: 0.1262 - accuracy: 0.9625 - auc: 0.9926 - precision: 0.9576 - recall: 0.9679 - val_loss: 0.2007 - val_accuracy: 0.9333 - val_auc: 0.9744 - val_precision: 0.9062 - val_recall: 0.9667 - lr: 0.0010\n",
      "Epoch 9/100\n",
      "18/18 [==============================] - 0s 6ms/step - loss: 0.1430 - accuracy: 0.9429 - auc: 0.9888 - precision: 0.9460 - recall: 0.9393 - val_loss: 0.1961 - val_accuracy: 0.9250 - val_auc: 0.9761 - val_precision: 0.9048 - val_recall: 0.9500 - lr: 0.0010\n",
      "Epoch 10/100\n",
      "18/18 [==============================] - 0s 6ms/step - loss: 0.1301 - accuracy: 0.9518 - auc: 0.9895 - precision: 0.9668 - recall: 0.9357 - val_loss: 0.1966 - val_accuracy: 0.9083 - val_auc: 0.9774 - val_precision: 0.9016 - val_recall: 0.9167 - lr: 0.0010\n",
      "Epoch 11/100\n",
      "18/18 [==============================] - 0s 6ms/step - loss: 0.1174 - accuracy: 0.9589 - auc: 0.9920 - precision: 0.9673 - recall: 0.9500 - val_loss: 0.1926 - val_accuracy: 0.9167 - val_auc: 0.9769 - val_precision: 0.9167 - val_recall: 0.9167 - lr: 0.0010\n",
      "Epoch 12/100\n",
      "18/18 [==============================] - 0s 7ms/step - loss: 0.1103 - accuracy: 0.9518 - auc: 0.9930 - precision: 0.9534 - recall: 0.9500 - val_loss: 0.1967 - val_accuracy: 0.9167 - val_auc: 0.9765 - val_precision: 0.9032 - val_recall: 0.9333 - lr: 0.0010\n",
      "Epoch 13/100\n",
      "18/18 [==============================] - 0s 6ms/step - loss: 0.1042 - accuracy: 0.9625 - auc: 0.9940 - precision: 0.9642 - recall: 0.9607 - val_loss: 0.1981 - val_accuracy: 0.9333 - val_auc: 0.9764 - val_precision: 0.9062 - val_recall: 0.9667 - lr: 0.0010\n",
      "Epoch 14/100\n",
      "18/18 [==============================] - 0s 6ms/step - loss: 0.1018 - accuracy: 0.9643 - auc: 0.9927 - precision: 0.9745 - recall: 0.9536 - val_loss: 0.1971 - val_accuracy: 0.9417 - val_auc: 0.9767 - val_precision: 0.9206 - val_recall: 0.9667 - lr: 0.0010\n",
      "Epoch 15/100\n",
      "18/18 [==============================] - 0s 6ms/step - loss: 0.0953 - accuracy: 0.9625 - auc: 0.9947 - precision: 0.9675 - recall: 0.9571 - val_loss: 0.2002 - val_accuracy: 0.9417 - val_auc: 0.9765 - val_precision: 0.9077 - val_recall: 0.9833 - lr: 0.0010\n",
      "Epoch 16/100\n",
      " 1/18 [>.............................] - ETA: 0s - loss: 0.1077 - accuracy: 0.9375 - auc: 0.9913 - precision: 0.9091 - recall: 0.9091\n",
      "Epoch 16: ReduceLROnPlateau reducing learning rate to 0.0005000000237487257.\n",
      "18/18 [==============================] - 0s 6ms/step - loss: 0.1121 - accuracy: 0.9571 - auc: 0.9924 - precision: 0.9672 - recall: 0.9464 - val_loss: 0.2036 - val_accuracy: 0.9417 - val_auc: 0.9753 - val_precision: 0.9077 - val_recall: 0.9833 - lr: 0.0010\n",
      "Epoch 17/100\n",
      "18/18 [==============================] - 0s 6ms/step - loss: 0.0891 - accuracy: 0.9696 - auc: 0.9953 - precision: 0.9713 - recall: 0.9679 - val_loss: 0.2027 - val_accuracy: 0.9417 - val_auc: 0.9757 - val_precision: 0.9077 - val_recall: 0.9833 - lr: 5.0000e-04\n",
      "Epoch 18/100\n",
      "18/18 [==============================] - 0s 6ms/step - loss: 0.0855 - accuracy: 0.9625 - auc: 0.9954 - precision: 0.9609 - recall: 0.9643 - val_loss: 0.2046 - val_accuracy: 0.9417 - val_auc: 0.9756 - val_precision: 0.9077 - val_recall: 0.9833 - lr: 5.0000e-04\n",
      "Epoch 19/100\n",
      "18/18 [==============================] - 0s 6ms/step - loss: 0.0940 - accuracy: 0.9625 - auc: 0.9947 - precision: 0.9642 - recall: 0.9607 - val_loss: 0.2019 - val_accuracy: 0.9500 - val_auc: 0.9764 - val_precision: 0.9219 - val_recall: 0.9833 - lr: 5.0000e-04\n",
      "Epoch 20/100\n",
      "Restoring model weights from the end of the best epoch: 10.0796 - accuracy: 0.9688 - auc: 0.9960 - precision: 1.0000 - recall: 0.9474\n",
      "18/18 [==============================] - 0s 6ms/step - loss: 0.0808 - accuracy: 0.9714 - auc: 0.9966 - precision: 0.9681 - recall: 0.9750 - val_loss: 0.2017 - val_accuracy: 0.9417 - val_auc: 0.9769 - val_precision: 0.9206 - val_recall: 0.9667 - lr: 5.0000e-04\n",
      "Epoch 20: early stopping\n"
     ]
    }
   ],
   "source": [
    "# 9) Eğitim\n",
    "history = model.fit(\n",
    "    X_train_p, y_train,\n",
    "    validation_data=(X_valid_p, y_valid),\n",
    "    epochs=100,\n",
    "    batch_size=32,\n",
    "    class_weight=class_weight,\n",
    "    callbacks=[early, plateau],\n",
    "    verbose=1\n",
    ")"
   ]
  },
  {
   "cell_type": "code",
   "execution_count": 57,
   "id": "1e612563-9327-471d-9d89-a52e0694679c",
   "metadata": {},
   "outputs": [
    {
     "data": {
      "image/png": "[encoded data removed]",
      "text/plain": [
       "<Figure size 1200x400 with 2 Axes>"
      ]
     },
     "metadata": {},
     "output_type": "display_data"
    }
   ],
   "source": [
    "import matplotlib.pyplot as plt\n",
    "from pathlib import Path\n",
    "hist = pd.DataFrame(history.history)\n",
    "plt.figure(figsize=(12,4))\n",
    "plt.subplot(1,2,1)\n",
    "plt.plot(hist[\"loss\"], label=\"train\"); plt.plot(hist[\"val_loss\"], label=\"valid\")\n",
    "plt.title(\"Loss\"); plt.legend(); plt.grid(alpha=0.3)\n",
    "plt.subplot(1,2,2)\n",
    "plt.plot(hist[\"auc\"], label=\"train AUC\"); plt.plot(hist[\"val_auc\"], label=\"valid AUC\")\n",
    "plt.title(\"AUC\"); plt.legend(); plt.grid(alpha=0.3)\n",
    "plt.tight_layout(); plt.show()"
   ]
  },
  {
   "cell_type": "code",
   "execution_count": 58,
   "id": "f9af6070-00ed-45fc-b679-9db96bf7ad3e",
   "metadata": {},
   "outputs": [
    {
     "name": "stdout",
     "output_type": "stream",
     "text": [
      "4/4 [==============================] - 0s 3ms/step\n",
      "\n",
      "Test AUC : 0.997\n",
      "Accuracy : 0.958\n",
      "Precision: 0.951\n",
      "Recall   : 0.967\n",
      "F1       : 0.959\n",
      "\n",
      "Report (0=good, 1=bad):\n",
      "               precision    recall  f1-score   support\n",
      "\n",
      "           0      0.966     0.950     0.958        60\n",
      "           1      0.951     0.967     0.959        60\n",
      "\n",
      "    accuracy                          0.958       120\n",
      "   macro avg      0.958     0.958     0.958       120\n",
      "weighted avg      0.958     0.958     0.958       120\n",
      "\n",
      "Confusion Matrix:\n",
      " [[57  3]\n",
      " [ 2 58]]\n"
     ]
    }
   ],
   "source": [
    "# 11) Test set değerlendirme (varsayılan eşik 0.5)\n",
    "y_proba = model.predict(X_test_p).ravel()\n",
    "y_pred = (y_proba >= 0.5).astype(int)\n",
    "\n",
    "auc  = roc_auc_score(y_test, y_proba)\n",
    "acc  = accuracy_score(y_test, y_pred)\n",
    "prec = precision_score(y_test, y_pred, zero_division=0)\n",
    "rec  = recall_score(y_test, y_pred, zero_division=0)\n",
    "f1   = f1_score(y_test, y_pred, zero_division=0)\n",
    "\n",
    "print(f\"\\nTest AUC : {auc:.3f}\")\n",
    "print(f\"Accuracy : {acc:.3f}\")\n",
    "print(f\"Precision: {prec:.3f}\")\n",
    "print(f\"Recall   : {rec:.3f}\")\n",
    "print(f\"F1       : {f1:.3f}\")\n",
    "\n",
    "print(\"\\nReport (0=good, 1=bad):\\n\", classification_report(y_test, y_pred, digits=3))\n",
    "print(\"Confusion Matrix:\\n\", confusion_matrix(y_test, y_pred))"
   ]
  },
  {
   "cell_type": "code",
   "execution_count": 59,
   "id": "a15b5ce4-3d7a-459c-8be9-5b11f70b1813",
   "metadata": {},
   "outputs": [
    {
     "data": {
      "image/png": "[encoded data removed]",
      "text/plain": [
       "<Figure size 1100x400 with 2 Axes>"
      ]
     },
     "metadata": {},
     "output_type": "display_data"
    }
   ],
   "source": [
    "# 12) ROC ve PR eğrileri\n",
    "fpr, tpr, _ = roc_curve(y_test, y_proba)\n",
    "ap = average_precision_score(y_test, y_proba)\n",
    "\n",
    "plt.figure(figsize=(11,4))\n",
    "plt.subplot(1,2,1)\n",
    "plt.plot(fpr, tpr, label=f\"AUC={auc:.3f}\")\n",
    "plt.plot([0,1],[0,1],'k--')\n",
    "plt.xlabel(\"FPR\"); plt.ylabel(\"TPR\")\n",
    "plt.title(\"ROC Curve\"); plt.legend(); plt.grid(alpha=0.3)\n",
    "\n",
    "prec_curve, rec_curve, thr = precision_recall_curve(y_test, y_proba)\n",
    "plt.subplot(1,2,2)\n",
    "plt.plot(rec_curve, prec_curve, label=f\"AP={ap:.3f}\")\n",
    "plt.xlabel(\"Recall\"); plt.ylabel(\"Precision\")\n",
    "plt.title(\"Precision-Recall\"); plt.legend(); plt.grid(alpha=0.3)\n",
    "plt.tight_layout(); plt.show()\n"
   ]
  },
  {
   "cell_type": "code",
   "execution_count": 60,
   "id": "77960d64-b9d9-4b6c-bd59-594820fc6e54",
   "metadata": {},
   "outputs": [
    {
     "name": "stdout",
     "output_type": "stream",
     "text": [
      "\n",
      "En iyi eşik (F1): 0.30 (skor=0.976)\n",
      "Report@best:\n",
      "               precision    recall  f1-score   support\n",
      "\n",
      "           0      1.000     0.950     0.974        60\n",
      "           1      0.952     1.000     0.976        60\n",
      "\n",
      "    accuracy                          0.975       120\n",
      "   macro avg      0.976     0.975     0.975       120\n",
      "weighted avg      0.976     0.975     0.975       120\n",
      "\n",
      "CM@best:\n",
      " [[57  3]\n",
      " [ 0 60]]\n"
     ]
    }
   ],
   "source": [
    "# 13) Eşik (threshold) optimizasyonu: F1 maksimize\n",
    "def best_threshold(y_true, y_prob, metric=\"f1\"):\n",
    "    ts = np.linspace(0.1, 0.9, 17)\n",
    "    best_t, best_s = 0.5, -1\n",
    "    for t in ts:\n",
    "        yp = (y_prob >= t).astype(int)\n",
    "        if metric == \"f1\":\n",
    "            s = f1_score(y_true, yp, zero_division=0)\n",
    "        else:\n",
    "            s = 0\n",
    "        if s > best_s:\n",
    "            best_s, best_t = s, t\n",
    "    return best_t, best_s\n",
    "\n",
    "t_star, s_star = best_threshold(y_test, y_proba, metric=\"f1\")\n",
    "print(f\"\\nEn iyi eşik (F1): {t_star:.2f} (skor={s_star:.3f})\")\n",
    "\n",
    "y_star = (y_proba >= t_star).astype(int)\n",
    "print(\"Report@best:\\n\", classification_report(y_test, y_star, digits=3))\n",
    "print(\"CM@best:\\n\", confusion_matrix(y_test, y_star))"
   ]
  },
  {
   "cell_type": "code",
   "execution_count": 79,
   "id": "5eaf4e28-7417-4d6c-ac4a-b9c0134237d8",
   "metadata": {},
   "outputs": [
    {
     "data": {
      "text/plain": [
       "array([[ 5.31576892, -0.60373984, -0.96824733,  4.85063558, 14.48080296,\n",
       "         0.36713879, -4.38991422, -2.91168931, -1.79915539, 14.87341066,\n",
       "        -1.37083191, -1.50803976, -1.15061431, -3.54088289,  0.81649658,\n",
       "         1.07424181,  2.33621621,  0.        ,  1.        ,  0.        ,\n",
       "         0.        ],\n",
       "       [ 3.35118842, -1.02321169, -0.66265734,  0.11808911,  6.6533419 ,\n",
       "        -0.34534317, -3.88759951, 13.47223966, -3.79910189, 29.73001642,\n",
       "        -0.4810622 ,  0.74347962, -1.25972183, -1.42777197,  0.81649658,\n",
       "        -2.28695885, -1.61542105,  0.        ,  0.        ,  0.        ,\n",
       "         1.        ],\n",
       "       [ 2.8600433 ,  1.21397151,  0.1522493 , -0.65953601,  2.73961137,\n",
       "         0.30870485, -0.4563933 , 14.3020024 , -8.66352437,  5.38458705,\n",
       "        -2.10143507,  8.79974651, -2.67867098,  0.06345245, -1.22474487,\n",
       "        -1.87497807,  2.14345341,  0.        ,  1.        ,  0.        ,\n",
       "         0.        ],\n",
       "       [-0.57797257, -0.74356379, -1.17197399, -1.13982217,  1.95686526,\n",
       "        -7.7013424 , -5.15782682, 12.38907416,  0.55441707,  0.82344848,\n",
       "        -2.86444878, -4.80675884, -2.81888396, -0.48172148,  0.81649658,\n",
       "        -1.24726985, -0.1697001 ,  1.        ,  0.        ,  0.        ,\n",
       "         0.        ]])"
      ]
     },
     "execution_count": 79,
     "metadata": {},
     "output_type": "execute_result"
    }
   ],
   "source": [
    "sample_df = pd.read_csv(\"test.csv\")\n",
    "X_new = sample_df.drop(columns=[\"Injury_Next_Season\"])\n",
    "X_new_p = preprocess.transform(X_new)\n",
    "X_new_p\n"
   ]
  },
  {
   "cell_type": "code",
   "execution_count": 85,
   "id": "077fb5e6-1eeb-44ce-963a-45dcedde83e9",
   "metadata": {},
   "outputs": [
    {
     "name": "stdout",
     "output_type": "stream",
     "text": [
      "1/1 [==============================] - 0s 31ms/step\n",
      "olasılıklar: [0.62  0.    0.989 1.   ]\n",
      "tahminler: [1, 0, 1, 1]\n"
     ]
    }
   ],
   "source": [
    "y_new_proba = model.predict(X_new_p).ravel()\n",
    "y_new_pred = (y_new_proba >= 0.5).astype(int)\n",
    "\n",
    "print(\"olasılıklar:\", y_new_proba.round(3))\n",
    "print(\"tahminler:\", y_new_pred.tolist())"
   ]
  },
  {
   "cell_type": "code",
   "execution_count": null,
   "id": "d3a6537f-96b8-4006-8391-d75700a1e1a7",
   "metadata": {},
   "outputs": [],
   "source": []
  }
 ],
 "metadata": {
  "kernelspec": {
   "display_name": "Python 3 (ipykernel)",
   "language": "python",
   "name": "python3"
  },
  "language_info": {
   "codemirror_mode": {
    "name": "ipython",
    "version": 3
   },
   "file_extension": ".py",
   "mimetype": "text/x-python",
   "name": "python",
   "nbconvert_exporter": "python",
   "pygments_lexer": "ipython3",
   "version": "3.9.0"
  }
 },
 "nbformat": 4,
 "nbformat_minor": 5
}
