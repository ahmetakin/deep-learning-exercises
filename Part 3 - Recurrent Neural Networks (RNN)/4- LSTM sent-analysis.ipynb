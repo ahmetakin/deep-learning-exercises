{
 "cells": [
  {
   "cell_type": "code",
   "execution_count": 1,
   "id": "9628167f-d8ae-40af-b685-fecb9883bb7a",
   "metadata": {},
   "outputs": [
    {
     "name": "stdout",
     "output_type": "stream",
     "text": [
      "2.13.0\n"
     ]
    }
   ],
   "source": [
    "import numpy as np\n",
    "import pandas as pd #data setini oluşturmak vs\n",
    "import os\n",
    "os.environ[\"TF_USE_LEGACY_KERAS\"] = \"1\" #145. satırdaki hatayı gidermek için geçmiş versinon kullanıyoruz\n",
    "import tensorflow as tf\n",
    "print(tf.__version__)\n",
    "import pickle"
   ]
  },
  {
   "cell_type": "code",
   "execution_count": 2,
   "id": "bc77c19d-59b3-475f-a0a7-3a81b68807f7",
   "metadata": {},
   "outputs": [],
   "source": [
    "from tensorflow.keras.models import Sequential\n",
    "from tensorflow.keras.preprocessing.text import Tokenizer\n",
    "from tensorflow.keras.optimizers import Adam\n",
    "from tensorflow.keras.preprocessing.sequence import pad_sequences\n",
    "from tensorflow.keras.layers import Dense, GRU, Embedding\n",
    "\n",
    "import matplotlib.pyplot as plt\n",
    "from sklearn.metrics import accuracy_score, f1_score, confusion_matrix"
   ]
  },
  {
   "cell_type": "code",
   "execution_count": 3,
   "id": "0392a5a5-b182-42cb-a348-028ede97508d",
   "metadata": {},
   "outputs": [],
   "source": [
    "dataset = pd.read_csv('hepsiburada.csv') #pandas ile csv dosyasını okuduk"
   ]
  },
  {
   "cell_type": "code",
   "execution_count": 4,
   "id": "927e5927-ad58-424e-ac9f-47086c9e4db8",
   "metadata": {},
   "outputs": [
    {
     "data": {
      "text/html": [
       "<div>\n",
       "<style scoped>\n",
       "    .dataframe tbody tr th:only-of-type {\n",
       "        vertical-align: middle;\n",
       "    }\n",
       "\n",
       "    .dataframe tbody tr th {\n",
       "        vertical-align: top;\n",
       "    }\n",
       "\n",
       "    .dataframe thead th {\n",
       "        text-align: right;\n",
       "    }\n",
       "</style>\n",
       "<table border=\"1\" class=\"dataframe\">\n",
       "  <thead>\n",
       "    <tr style=\"text-align: right;\">\n",
       "      <th></th>\n",
       "      <th>Rating</th>\n",
       "      <th>Review</th>\n",
       "    </tr>\n",
       "  </thead>\n",
       "  <tbody>\n",
       "    <tr>\n",
       "      <th>0</th>\n",
       "      <td>1</td>\n",
       "      <td>3 yıldır tık demedi. :)</td>\n",
       "    </tr>\n",
       "    <tr>\n",
       "      <th>1</th>\n",
       "      <td>1</td>\n",
       "      <td>3 yıldır kullanıyorum müthiş</td>\n",
       "    </tr>\n",
       "    <tr>\n",
       "      <th>2</th>\n",
       "      <td>1</td>\n",
       "      <td>Ürün bugün elime geçti çok fazla inceleme fırs...</td>\n",
       "    </tr>\n",
       "    <tr>\n",
       "      <th>3</th>\n",
       "      <td>1</td>\n",
       "      <td>Almaya karar verdim. Hemencecik geldi. Keyifle...</td>\n",
       "    </tr>\n",
       "    <tr>\n",
       "      <th>4</th>\n",
       "      <td>1</td>\n",
       "      <td>Günlük kullanımınızı çok çok iyi karsılıyor kı...</td>\n",
       "    </tr>\n",
       "    <tr>\n",
       "      <th>...</th>\n",
       "      <td>...</td>\n",
       "      <td>...</td>\n",
       "    </tr>\n",
       "    <tr>\n",
       "      <th>243492</th>\n",
       "      <td>1</td>\n",
       "      <td>fiyatına göre güzel</td>\n",
       "    </tr>\n",
       "    <tr>\n",
       "      <th>243493</th>\n",
       "      <td>1</td>\n",
       "      <td>Ürün kullanışlı iş görüyor fazlasıyla eşime al...</td>\n",
       "    </tr>\n",
       "    <tr>\n",
       "      <th>243494</th>\n",
       "      <td>1</td>\n",
       "      <td>Hızlı Kargo, güzel ürün</td>\n",
       "    </tr>\n",
       "    <tr>\n",
       "      <th>243495</th>\n",
       "      <td>1</td>\n",
       "      <td>telefon başarılı hızlı bir cihaz  sadece beyaz...</td>\n",
       "    </tr>\n",
       "    <tr>\n",
       "      <th>243496</th>\n",
       "      <td>1</td>\n",
       "      <td>Urun cok guzel pazar gunu siparis verdim adana...</td>\n",
       "    </tr>\n",
       "  </tbody>\n",
       "</table>\n",
       "<p>243497 rows × 2 columns</p>\n",
       "</div>"
      ],
      "text/plain": [
       "        Rating                                             Review\n",
       "0            1                            3 yıldır tık demedi. :)\n",
       "1            1                      3 yıldır kullanıyorum müthiş \n",
       "2            1  Ürün bugün elime geçti çok fazla inceleme fırs...\n",
       "3            1  Almaya karar verdim. Hemencecik geldi. Keyifle...\n",
       "4            1  Günlük kullanımınızı çok çok iyi karsılıyor kı...\n",
       "...        ...                                                ...\n",
       "243492       1                                fiyatına göre güzel\n",
       "243493       1  Ürün kullanışlı iş görüyor fazlasıyla eşime al...\n",
       "243494       1                            Hızlı Kargo, güzel ürün\n",
       "243495       1  telefon başarılı hızlı bir cihaz  sadece beyaz...\n",
       "243496       1  Urun cok guzel pazar gunu siparis verdim adana...\n",
       "\n",
       "[243497 rows x 2 columns]"
      ]
     },
     "execution_count": 4,
     "metadata": {},
     "output_type": "execute_result"
    }
   ],
   "source": [
    "dataset"
   ]
  },
  {
   "cell_type": "code",
   "execution_count": 5,
   "id": "0962748f-c774-43e7-a579-ddcef4c616b0",
   "metadata": {},
   "outputs": [],
   "source": [
    "target = dataset['Rating'].values.tolist() # etiketleri aldık"
   ]
  },
  {
   "cell_type": "code",
   "execution_count": 6,
   "id": "032afec4-89b7-4805-9d9f-9991f22653b4",
   "metadata": {},
   "outputs": [],
   "source": [
    "data = dataset['Review'].values.tolist() # verileri ayrı şekilde aldık"
   ]
  },
  {
   "cell_type": "code",
   "execution_count": 7,
   "id": "e84c82bf-b74d-47a1-ac34-ce4d69694872",
   "metadata": {},
   "outputs": [],
   "source": [
    "#BİR MODELİ EĞİTİRKEN VERİLERİ EĞİTİM VE TEST SETİ OLARAK AYIRIRIZ\n",
    "#MODELİ EĞİTİM SETİ ÜZERİNDE EĞİTİRİZ VE EĞİTİM TAMAMLANDIKTAN SONRA\n",
    "#TEST SETİ ÜZERİNDE MODELİ TEST EDERİZ BU ŞEKİLDE MODEL GERÇEKTEN HİÇ GÖRMEDİĞİ VERİLER ÜZERİNDE GERÇEKTEN BAŞARILIMI GÖRÜRÜZ\n",
    "#EĞER EĞİTİM SETİ ÜZERİNDE BAŞARI VERİP TEST SETİ ÜZERİNDE BAŞARI SAĞLAMAZ İSE BİRŞEY ÖĞRENEMEMİŞ DEMEKTİR OVERFİTTİNG DENİR BUNA\n",
    "#\n",
    "cutoff = int(len(data) * 0.80) # yüzde 80 i aldık, test ve eğitim datası olarak ayırmak için\n",
    "x_train, x_test = data[:cutoff], data[cutoff:] #ikiye ayırdık dataları aynı şeyi etiketler içinde yapıcaz\n",
    "y_train, y_test = target[:cutoff], target[cutoff:]"
   ]
  },
  {
   "cell_type": "code",
   "execution_count": 8,
   "id": "3bb1d9f7-9e36-40b6-a46c-00c306656339",
   "metadata": {},
   "outputs": [
    {
     "data": {
      "text/plain": [
       "'ürün sipariş verdim 2 gün içinde elime ulaştı her zaman ki gibi kullanışlı bi ürün daha once de bu mouse dan almıştım.bu yüzden tereddütsüz aldım . alacak olanlara öneririm'"
      ]
     },
     "execution_count": 8,
     "metadata": {},
     "output_type": "execute_result"
    }
   ],
   "source": [
    "x_train[500]"
   ]
  },
  {
   "cell_type": "code",
   "execution_count": 9,
   "id": "451c6da8-b089-4a4c-a382-1a0104da2c2f",
   "metadata": {},
   "outputs": [
    {
     "data": {
      "text/plain": [
       "1"
      ]
     },
     "execution_count": 9,
     "metadata": {},
     "output_type": "execute_result"
    }
   ],
   "source": [
    "y_train[500]"
   ]
  },
  {
   "cell_type": "code",
   "execution_count": 10,
   "id": "fc4d1df4-0d8c-4b26-b60e-e22bb70a8a91",
   "metadata": {},
   "outputs": [
    {
     "data": {
      "text/plain": [
       "'ürünü alalı 3 hafta kadar oldu. aralıksız kullanıyorum bilgisyarım sürekli açık durur ve ben günde yaklaşık 12 saat başındayım mousesu çok kullanırım. şimdiye kadar bir problem yaşamadım ve çok memnunum almak isteyenlere tavsiye ederim.'"
      ]
     },
     "execution_count": 10,
     "metadata": {},
     "output_type": "execute_result"
    }
   ],
   "source": [
    "x_train[800] #modelimize eğitim aşamasında bu yorumun olumlu olduğunu öğreticez"
   ]
  },
  {
   "cell_type": "code",
   "execution_count": 11,
   "id": "9f5f268c-41b6-46ae-b5f3-5efa5be63e6c",
   "metadata": {},
   "outputs": [
    {
     "data": {
      "text/plain": [
       "1"
      ]
     },
     "execution_count": 11,
     "metadata": {},
     "output_type": "execute_result"
    }
   ],
   "source": [
    "y_train[800] #olumlu bir model"
   ]
  },
  {
   "cell_type": "code",
   "execution_count": 12,
   "id": "e2c37f47-8148-4417-a4ba-f09d6f490e22",
   "metadata": {},
   "outputs": [],
   "source": [
    "#her yorum tokenleştirilicek kelimelere ayrılacak ve sayı denk gelecek\n",
    "#kelime haznemizde 10bin kelime alıcaz hepsini almıcaz datasetten\n",
    "num_words = 10000 # en sık geçen 10bin kelime alınacak bunlar dışında kalanlar alınmayacak\n",
    "#bu 10bin sınırını oyna ve modelin başarısına etkisini gör\n",
    "tokenizer = Tokenizer(num_words=num_words) #kelime sınırını belirledik default u nan dır\n",
    "#sınır belirlemek istemez ise nan yazarız"
   ]
  },
  {
   "cell_type": "code",
   "execution_count": 13,
   "id": "dd053758-af34-4744-8e12-0a18024c599c",
   "metadata": {},
   "outputs": [],
   "source": [
    "tokenizer.fit_on_texts(data) #yorum datamızı tokenizera aktardık reviewleeri tokenleştirk en cok kullanılan 10bin kelimeyi tokenleştirdi"
   ]
  },
  {
   "cell_type": "code",
   "execution_count": 14,
   "id": "fe58495d-5647-4460-b1a3-3f4e640fece9",
   "metadata": {},
   "outputs": [],
   "source": [
    "#tokenizer.word_index  # HER KELİMEYE KARŞILIK GELEN BİR İNDEX BELİRLEDİK"
   ]
  },
  {
   "cell_type": "code",
   "execution_count": 15,
   "id": "515d5866-8900-4e94-a1ae-73ad0396c99c",
   "metadata": {},
   "outputs": [],
   "source": [
    "x_train_tokens = tokenizer.texts_to_sequences(x_train)  #eğitim setimizi tokenleştirdik ayırmış olduğumuz 80/20 olarak"
   ]
  },
  {
   "cell_type": "code",
   "execution_count": 16,
   "id": "580270a7-5eb9-40e5-8ede-98267048fb51",
   "metadata": {},
   "outputs": [
    {
     "data": {
      "text/plain": [
       "'ürünü alalı 3 hafta kadar oldu. aralıksız kullanıyorum bilgisyarım sürekli açık durur ve ben günde yaklaşık 12 saat başındayım mousesu çok kullanırım. şimdiye kadar bir problem yaşamadım ve çok memnunum almak isteyenlere tavsiye ederim.'"
      ]
     },
     "execution_count": 16,
     "metadata": {},
     "output_type": "execute_result"
    }
   ],
   "source": [
    "x_train[800] #800üncü yoruma bakıyoruz öncelikle tokenleştirmeden önce haline bakıyoruz"
   ]
  },
  {
   "cell_type": "code",
   "execution_count": 17,
   "id": "bbf8e5f2-f1ea-4778-a6b4-0f319b8e32dd",
   "metadata": {},
   "outputs": [
    {
     "name": "stdout",
     "output_type": "stream",
     "text": [
      "[19, 341, 52, 194, 30, 54, 7992, 55, 209, 603, 7887, 3, 36, 114, 164, 479, 85, 1, 1682, 782, 30, 2, 380, 326, 3, 1, 81, 132, 562, 9, 10]\n"
     ]
    }
   ],
   "source": [
    "print(x_train_tokens[800]) #her kelime sayılara çevrilmiş burada 10bin sınır belirlediğimiz için her kelimeye karşılık bir token bulunmayacak\n",
    "#misal bilgisyarım kelimesi bu kelimenin karşılığı olmadığından 10bin sınırında olmadığından"
   ]
  },
  {
   "cell_type": "code",
   "execution_count": 18,
   "id": "7ec8e7f7-0cd1-474f-8fc7-f530b7d5a6d2",
   "metadata": {},
   "outputs": [],
   "source": [
    "x_test_tokens = tokenizer.texts_to_sequences(x_test) #test cümlelerinide tokenleştirdik"
   ]
  },
  {
   "cell_type": "code",
   "execution_count": 19,
   "id": "c90a006a-e9a5-482a-b7e2-7d0e05c1f41d",
   "metadata": {},
   "outputs": [],
   "source": [
    "#rnn ile oluşturduğumuz modellere ileri boyutlarda inputlar veririrz bizim datasetimizde farklı sayı kelimelerden oluşan cümleler bulunmakta farklı sayılarda olduğu için veremeyiz bu yüzden tüm yorumları belirli bir boyuta sabitleriz\n",
    "#örn 50 kelimelik boyut belirledik diyelim ancak bir yorum 35 yorumsa 15 tane sıfır ekliyerek 50 yapılır,70 taneden oluşanda 50 ye düşürülür"
   ]
  },
  {
   "cell_type": "code",
   "execution_count": 20,
   "id": "9cdd65c7-5eea-4162-be13-50fad762bfa0",
   "metadata": {},
   "outputs": [],
   "source": [
    "num_tokens = [len(tokens) for tokens in x_train_tokens + x_test_tokens] # list comprehension yapıyoruz tek satırda\n",
    "num_tokens = np.array(num_tokens)"
   ]
  },
  {
   "cell_type": "code",
   "execution_count": 21,
   "id": "d1f5be1e-ebb9-4ab7-9ae0-700f0dbb8fd9",
   "metadata": {},
   "outputs": [
    {
     "data": {
      "text/plain": [
       "20.744703220162876"
      ]
     },
     "execution_count": 21,
     "metadata": {},
     "output_type": "execute_result"
    }
   ],
   "source": [
    "np.mean(num_tokens) #ortalama kaç token vardır diye baktık"
   ]
  },
  {
   "cell_type": "code",
   "execution_count": 22,
   "id": "f9610a25-78c1-4572-aaca-502321ab81e0",
   "metadata": {},
   "outputs": [
    {
     "data": {
      "text/plain": [
       "295"
      ]
     },
     "execution_count": 22,
     "metadata": {},
     "output_type": "execute_result"
    }
   ],
   "source": [
    "np.max(num_tokens) # en fazla tokene baktık"
   ]
  },
  {
   "cell_type": "code",
   "execution_count": 23,
   "id": "3e905a53-c00f-4a03-bfe6-0b4751af93a0",
   "metadata": {},
   "outputs": [
    {
     "data": {
      "text/plain": [
       "21941"
      ]
     },
     "execution_count": 23,
     "metadata": {},
     "output_type": "execute_result"
    }
   ],
   "source": [
    "np.argmax(num_tokens) # en uzun yorumun indexine baktık"
   ]
  },
  {
   "cell_type": "code",
   "execution_count": 24,
   "id": "8eb2fc79-50a4-448d-a46e-e82ac5f4abf8",
   "metadata": {},
   "outputs": [
    {
     "data": {
      "text/plain": [
       "'Özellikle bu kısma yazıyorum iyice okuyunuz,cihazın hızı çok iyi.Isınma normal boyutlarda.Kamerası elinizi sabit tutarsanız ve gündüz çok net gece ise çok net çekmez.Görüntülü konuşma özelliği yok ancak uygulama ile olur,anten çekimi gayet iyi.Parmak izi okuyucusu gayet hızlı bazen tuşu silmenizi istiyor ve okuyamıyor kirden vs...Ön kamera da tatmin edici,çekim esnasında ekran beyaz ışık vererek flaş görevi görür.Batarya bana 1 hafta gidiyor sık kullanımda ise 2-3 gün gidiyor.Hızlı şarj 1 saatte doluyor , şekilleri ele oturuyor ve şık bir görüntü var.Telefonu aldığım gün gittim ve ilk girdiğim yerden ekran koruyucu ve kılıf buldum.Kulaklık sesi çok net ve yüksek ancak kendi hoparlörü biraz zayıf sesi.Ekrana bakarken açık kalma özelliği yok.Diğer akıllı cihaz özellikleri %90 ı bu cihazda mevcut.Güç tasarrufu 2 ayrı modu var ve çok başarılı çalışıyor.4gb ram var genelde yarısı boş kalıyor.Bir de yeni cihazların çoğu titreşimi az ve sesi de az çıkıyor.Bu cihaz da içine dahil...Bu cihazlar güncelleme almaz ve rom bulunmuyormuş.Benim için güncelleme sorun olmaz -cihaz parasına göre s serisi ile yarışıyor çünkü.Biraz metal olmasından dolayı elden kolay kaysada duruşu ve gösterişi iyidir.Çift flaşı var arkada.Kısaca şöyle ki bu fiyata bu ürün alınır.5 aydır kullanıyorum kasma donma felan zaten olmaz,bataryası iyi,şekli iyi,özellikler de iyi....En büyük kafa karıştıran soru şu ki hadi cihaz arıza yaptı veya düştü ekranı kırıldı.Bunun bir servisi var,ithalatçı garantisi de var.Cihazın adı sanı belli...Parça bulanmaz tamir olmaz derseniz size kalmış.Zaten normal bir cihazı da düşürseniz farkedermi?.Güncelleme almaz diyorlar bu konuda düşünebilirsiniz.S serisi cihazlarla hızını kıyaslarsınız ama güncelleme ile araya fark koymuşlar.İki katı fiyata satılan cihazla farkı olmasa zaten olmaz değil mi?Almayı düşünenler başka bir cihazla kıyas yapacaksa yine  7pro veya 9 baksınlar.C5 pro da biraz boyutu kısa ve kibar....Sonuçta ömürlük değil alın fazla düşünmeyin'"
      ]
     },
     "execution_count": 24,
     "metadata": {},
     "output_type": "execute_result"
    }
   ],
   "source": [
    "x_train[21941]# bu indexine baktık"
   ]
  },
  {
   "cell_type": "code",
   "execution_count": 25,
   "id": "141c1bc0-6d64-410c-9539-cf79f6e5812f",
   "metadata": {},
   "outputs": [
    {
     "data": {
      "text/plain": [
       "59"
      ]
     },
     "execution_count": 25,
     "metadata": {},
     "output_type": "execute_result"
    }
   ],
   "source": [
    "max_tokens = np.mean(num_tokens) + 2* np.std(num_tokens) #std standard sapması\n",
    "max_tokens = int(max_tokens) #float değeri int çevirdi\n",
    "max_tokens #batch size sayılır\n",
    "#ortalama bir sayı belirledik"
   ]
  },
  {
   "cell_type": "code",
   "execution_count": 26,
   "id": "9eb6c228-b59f-4b5f-8d29-44c497b3f3b5",
   "metadata": {},
   "outputs": [
    {
     "data": {
      "text/plain": [
       "0.9597982726686571"
      ]
     },
     "execution_count": 26,
     "metadata": {},
     "output_type": "execute_result"
    }
   ],
   "source": [
    "np.sum(num_tokens < max_tokens) / len(num_tokens) # kaç tane 59 tane tokenden oluşur"
   ]
  },
  {
   "cell_type": "code",
   "execution_count": 27,
   "id": "46283588-955c-4836-b602-6e90b12b49c1",
   "metadata": {},
   "outputs": [],
   "source": [
    "#yorumların yüzde 95 de 59 tokenden oluşan yorumlardan oluşur %5 59 fazla veya az olması sorun yatmaz"
   ]
  },
  {
   "cell_type": "code",
   "execution_count": 28,
   "id": "688a309b-6e6f-4b21-86b1-d90f0991c7c3",
   "metadata": {},
   "outputs": [],
   "source": [
    "x_train_pad = pad_sequences(x_train_tokens, maxlen = max_tokens) #her yorumu eşit boyuda getiriyoruz 59 burada"
   ]
  },
  {
   "cell_type": "code",
   "execution_count": 29,
   "id": "36e08d86-f75e-4cf0-8a47-dc80d692cfef",
   "metadata": {},
   "outputs": [],
   "source": [
    "x_test_pad = pad_sequences(x_test_tokens, maxlen = max_tokens) #bunada padding ekliyoruz"
   ]
  },
  {
   "cell_type": "code",
   "execution_count": 30,
   "id": "1c0cdd2e-d724-4106-b2d2-ef36f2a7f248",
   "metadata": {},
   "outputs": [
    {
     "data": {
      "text/plain": [
       "(194797, 59)"
      ]
     },
     "execution_count": 30,
     "metadata": {},
     "output_type": "execute_result"
    }
   ],
   "source": [
    "x_train_pad.shape #190 binden fazla yorum 59 a sabitlendi padding ile"
   ]
  },
  {
   "cell_type": "code",
   "execution_count": 31,
   "id": "075fbd0d-3b54-4bc2-abe1-0e19330da992",
   "metadata": {},
   "outputs": [
    {
     "data": {
      "text/plain": [
       "(48700, 59)"
      ]
     },
     "execution_count": 31,
     "metadata": {},
     "output_type": "execute_result"
    }
   ],
   "source": [
    "x_test_pad.shape #48 binden fazla yorum 59 a sabitlendi padding ile"
   ]
  },
  {
   "cell_type": "code",
   "execution_count": 32,
   "id": "28847a4d-500d-4801-a1ff-50133bf162aa",
   "metadata": {},
   "outputs": [
    {
     "data": {
      "text/plain": [
       "array([  19,  341,   52,  194,   30,   54, 7992,   55,  209,  603, 7887,\n",
       "          3,   36,  114,  164,  479,   85,    1, 1682,  782,   30,    2,\n",
       "        380,  326,    3,    1,   81,  132,  562,    9,   10])"
      ]
     },
     "execution_count": 32,
     "metadata": {},
     "output_type": "execute_result"
    }
   ],
   "source": [
    "#artık verilerimiz hazır\n",
    "np.array(x_train_tokens[800]) #800üncü yorumun normal haline bakalım ilk"
   ]
  },
  {
   "cell_type": "code",
   "execution_count": 33,
   "id": "6ad4ba79-bdc6-4b81-b3f2-d26081f4f1cc",
   "metadata": {},
   "outputs": [
    {
     "data": {
      "text/plain": [
       "array([ 537, 1804,  488, 2218,   75,  163,    2,  456,   13, 1308, 1865,\n",
       "       3432,    5,  824, 7798,  836, 1640, 7838, 3344,   12, 1308,   31,\n",
       "       3063,  299, 2704,  851, 1052,   39, 1490, 3436,  317, 1170,   75,\n",
       "        537,   50,  327,  246, 1322,  120,    2, 3436, 7527,  199,  260,\n",
       "        579, 6176, 1800,   13,   45,  808,  108,    3,  865,  749, 5840,\n",
       "         50,  106,   76,  879])"
      ]
     },
     "execution_count": 33,
     "metadata": {},
     "output_type": "execute_result"
    }
   ],
   "source": [
    "np.array(x_train_pad[21941]) #şindide padding eklenmiş  haline"
   ]
  },
  {
   "cell_type": "code",
   "execution_count": 34,
   "id": "de83d625-f996-4972-bf17-01e6d341640c",
   "metadata": {},
   "outputs": [
    {
     "data": {
      "text/plain": [
       "array([   0,    0,    0,    0,    0,    0,    0,    0,    0,    0,    0,\n",
       "          0,    0,    0,    0,    0,    0,    0,    0,    0,    0,    0,\n",
       "          0,    0,    0,    0,    0,    0,   19,  341,   52,  194,   30,\n",
       "         54, 7992,   55,  209,  603, 7887,    3,   36,  114,  164,  479,\n",
       "         85,    1, 1682,  782,   30,    2,  380,  326,    3,    1,   81,\n",
       "        132,  562,    9,   10])"
      ]
     },
     "execution_count": 34,
     "metadata": {},
     "output_type": "execute_result"
    }
   ],
   "source": [
    "np.array(x_train_pad[800])"
   ]
  },
  {
   "cell_type": "code",
   "execution_count": 35,
   "id": "1411fdc5-b613-47e1-9d71-bf0266c11c1b",
   "metadata": {},
   "outputs": [],
   "source": [
    "idx = tokenizer.word_index #anahtar bölümünde kelimeler değer kısmında sayılar var\n",
    "inverse_map = dict(zip(idx.values(),idx.keys())) #word indexi tersine çevirdik sayıdan kelimeyi bulmak için"
   ]
  },
  {
   "cell_type": "code",
   "execution_count": 36,
   "id": "e1d0747a-f653-41bf-b4cb-176cbf5a5712",
   "metadata": {},
   "outputs": [],
   "source": [
    "def tokens_to_string(tokens):\n",
    "    words = [inverse_map[token] for token in tokens if token != 0]\n",
    "    text = ' '.join(words) # kelimeler aralarında boşluk bırakılarak yazılacak\n",
    "    return text"
   ]
  },
  {
   "cell_type": "code",
   "execution_count": 37,
   "id": "9dad0798-8afa-4039-8e57-ffdd48d1cf7a",
   "metadata": {},
   "outputs": [
    {
     "data": {
      "text/plain": [
       "'ürünü alalı 3 hafta kadar oldu. aralıksız kullanıyorum bilgisyarım sürekli açık durur ve ben günde yaklaşık 12 saat başındayım mousesu çok kullanırım. şimdiye kadar bir problem yaşamadım ve çok memnunum almak isteyenlere tavsiye ederim.'"
      ]
     },
     "execution_count": 37,
     "metadata": {},
     "output_type": "execute_result"
    }
   ],
   "source": [
    "x_train[800]"
   ]
  },
  {
   "cell_type": "code",
   "execution_count": 38,
   "id": "2043332d-0961-4743-9c38-9fcfb8701beb",
   "metadata": {},
   "outputs": [
    {
     "data": {
      "text/plain": [
       "'ürünü alalı 3 hafta kadar oldu aralıksız kullanıyorum sürekli açık durur ve ben günde yaklaşık 12 saat çok kullanırım şimdiye kadar bir problem yaşamadım ve çok memnunum almak isteyenlere tavsiye ederim'"
      ]
     },
     "execution_count": 38,
     "metadata": {},
     "output_type": "execute_result"
    }
   ],
   "source": [
    "tokens_to_string(x_train_tokens[800]) #sayısal tokenize edilmiş cümleyi vererek tokeni word_indeximizdeki sayılarla karşılaştırıp tekrak yazdırdık kelimeleri\n",
    "# bazı kelimeler eksik gelecek cünkü 10bin sınırı vermiştik"
   ]
  },
  {
   "cell_type": "code",
   "execution_count": 39,
   "id": "94db6a43-e83a-4776-9508-daed14c41cfd",
   "metadata": {},
   "outputs": [],
   "source": [
    "model = Sequential() #keras ile ardışık bir model oluşturucaz"
   ]
  },
  {
   "cell_type": "code",
   "execution_count": 40,
   "id": "587456c2-e93a-4f4d-b171-425dfeb6ef8a",
   "metadata": {},
   "outputs": [],
   "source": [
    "embedding_size = 50 # her kelimeye karşılık gelen 50 uzunluğunda vector olacak"
   ]
  },
  {
   "cell_type": "code",
   "execution_count": 41,
   "id": "08099548-3974-4f93-93d5-f934b133ca7b",
   "metadata": {},
   "outputs": [],
   "source": [
    "#biz burada kelime vektorlerini glove yada nltk hazır vektörler kullanmadan rastgele oluşturucaz ilk başta, fakat diğer derslerde hazır vektörleri görücez\n",
    "#vektörleri rastgele oluşturucaz"
   ]
  },
  {
   "cell_type": "code",
   "execution_count": 42,
   "id": "00929e24-27ea-4f35-82a1-699043279c9c",
   "metadata": {},
   "outputs": [],
   "source": [
    "model.add(Embedding(input_dim=num_words,\n",
    "                   output_dim=embedding_size,\n",
    "                   input_length = max_tokens, #mini batch\n",
    "                   name='embedding_layer')) #100000x50 matrix oluşturduk giriş lenght 59\n",
    "#bu ürün süper diye yorum gelirse bu kelimelerin karşığını 10bin kelimelerin içinden alıp aktarıcak bir sonraki layerin inputu oalcak"
   ]
  },
  {
   "cell_type": "code",
   "execution_count": 43,
   "id": "a46cbec2-25ed-4823-93eb-bab6a46a39d3",
   "metadata": {},
   "outputs": [],
   "source": [
    "#RNN sinir ağımızı oluşturalım GRU kullanıcaz gradient descent hatasını çözücez\n",
    "#3 tane 3 GRU layer ile eğitim yapılacak\n",
    "#ilk grup layer ekleyelim model\n",
    "model.add(GRU(units=16,return_sequences=True)) #CuDNNGRU ekran kartı ile kullanım için olabilir burada GRU neorunu 16 layerden output verecek\n",
    "#True diyince sequences ın hepsi dönecek cünkü diğer layer tekrar gru olacak\n",
    "model.add(GRU(units=8,return_sequences=True))# 8 Nörondan\n",
    "model.add(GRU(units=4,return_sequences=False))  # false yaptık sonraki layer tek nörondan oluşacak\n",
    "model.add(Dense(1, activation = 'sigmoid')) #output layeri sıfır-bir arası değer döndürür\n"
   ]
  },
  {
   "cell_type": "code",
   "execution_count": 44,
   "id": "e0e170d8-a1fc-43af-8da5-416323bd30e4",
   "metadata": {},
   "outputs": [],
   "source": [
    "optimizer = Adam(learning_rate=1e-3) #0.003 demektir"
   ]
  },
  {
   "cell_type": "code",
   "execution_count": 45,
   "id": "bf71105a-cfbb-42a4-88f5-ceaa47a824f2",
   "metadata": {},
   "outputs": [],
   "source": [
    "model.compile(loss='binary_crossentropy',optimizer=optimizer,metrics=['accuracy'])"
   ]
  },
  {
   "cell_type": "code",
   "execution_count": 46,
   "id": "6019e88b-c92f-49ef-a1d8-020693f69d42",
   "metadata": {},
   "outputs": [
    {
     "name": "stdout",
     "output_type": "stream",
     "text": [
      "Model: \"sequential\"\n",
      "_________________________________________________________________\n",
      " Layer (type)                Output Shape              Param #   \n",
      "=================================================================\n",
      " embedding_layer (Embedding  (None, 59, 50)            500000    \n",
      " )                                                               \n",
      "                                                                 \n",
      " gru (GRU)                   (None, 59, 16)            3264      \n",
      "                                                                 \n",
      " gru_1 (GRU)                 (None, 59, 8)             624       \n",
      "                                                                 \n",
      " gru_2 (GRU)                 (None, 4)                 168       \n",
      "                                                                 \n",
      " dense (Dense)               (None, 1)                 5         \n",
      "                                                                 \n",
      "=================================================================\n",
      "Total params: 504061 (1.92 MB)\n",
      "Trainable params: 504061 (1.92 MB)\n",
      "Non-trainable params: 0 (0.00 Byte)\n",
      "_________________________________________________________________\n"
     ]
    }
   ],
   "source": [
    "model.summary()"
   ]
  },
  {
   "cell_type": "code",
   "execution_count": 47,
   "id": "c2f062d8-6e7a-4ae7-974c-91cfbfb15196",
   "metadata": {},
   "outputs": [
    {
     "name": "stdout",
     "output_type": "stream",
     "text": [
      "Epoch 1/3\n",
      "761/761 [==============================] - 46s 54ms/step - loss: 0.1921 - accuracy: 0.9516 - val_loss: 0.1355 - val_accuracy: 0.9560\n",
      "Epoch 2/3\n",
      "761/761 [==============================] - 41s 54ms/step - loss: 0.0956 - accuracy: 0.9700 - val_loss: 0.1199 - val_accuracy: 0.9578\n",
      "Epoch 3/3\n",
      "761/761 [==============================] - 40s 52ms/step - loss: 0.0710 - accuracy: 0.9784 - val_loss: 0.1245 - val_accuracy: 0.9590\n"
     ]
    }
   ],
   "source": [
    "#59 tokene karşılık gelen 50 uzunluğunda ilk başta 3. layerde return seq yoktur dikkat et\n",
    "#outputlar none yazıyor dikkat et batch oluyor bu\n",
    "#modelimize 256 şar 256 şar beslicez verileri\n",
    "#amac loss'u düşürüp accuracy'i arttırmak\n",
    "#import datetime\n",
    "#log_dir = os.path.join(\"logs\", datetime.datetime.now().strftime(\"%Y%m%d-%H%M%S\"))\n",
    "#tensorboard_callback = tf.keras.callbacks.TensorBoard(log_dir=log_dir, histogram_freq=1)\n",
    "#tensorboard --logdir logs olarak kontrol edebilirsin terminalden\n",
    "#hist = model.fit(np.array(x_train_pad),np.array(y_train),epochs=3, batch_size= 256,validation_data=(np.array(x_test_pad),np.array(y_test)),callbacks=[tensorboard_callback])\n",
    "hist = model.fit(np.array(x_train_pad),np.array(y_train),epochs=3, batch_size= 256,validation_data=(np.array(x_test_pad),np.array(y_test))) #epochs ile 3 defa eğitilecek"
   ]
  },
  {
   "cell_type": "code",
   "execution_count": 48,
   "id": "0182ec57-40a0-48ad-930a-137e5413b6af",
   "metadata": {},
   "outputs": [
    {
     "name": "stdout",
     "output_type": "stream",
     "text": [
      "dict_keys(['loss', 'accuracy', 'val_loss', 'val_accuracy'])\n"
     ]
    }
   ],
   "source": [
    "history_dict = hist.history\n",
    "print(history_dict.keys())"
   ]
  },
  {
   "cell_type": "code",
   "execution_count": 49,
   "id": "b253199c-0688-4b6f-a92f-cc5a5ae88220",
   "metadata": {},
   "outputs": [
    {
     "name": "stdout",
     "output_type": "stream",
     "text": [
      "1522/1522 [==============================] - 10s 6ms/step - loss: 0.1245 - accuracy: 0.9590\n"
     ]
    }
   ],
   "source": [
    "#eğitim esnasında test setini modele beslemedik\n",
    "#o yüzden şimdi modeli test setiyle tamammen yabancı olduğu verileri ile test edicez\n",
    "result = model.evaluate (np.array(x_test_pad),np.array(y_test))"
   ]
  },
  {
   "cell_type": "code",
   "execution_count": 50,
   "id": "cb9d1186-3ada-42c1-8556-56c4236148a0",
   "metadata": {},
   "outputs": [
    {
     "data": {
      "text/plain": [
       "0.958952784538269"
      ]
     },
     "execution_count": 50,
     "metadata": {},
     "output_type": "execute_result"
    }
   ],
   "source": [
    "#test setimizdeki verilerle yüzde kaç isabet oranı doğruluk olduğuna bakıyoruz\n",
    "result[1] #istabet oranı"
   ]
  },
  {
   "cell_type": "code",
   "execution_count": 51,
   "id": "75f58d20-d831-43a3-b67f-f79de76274aa",
   "metadata": {},
   "outputs": [
    {
     "name": "stdout",
     "output_type": "stream",
     "text": [
      "32/32 [==============================] - 1s 6ms/step\n"
     ]
    }
   ],
   "source": [
    "#Video 4: bu derste eğittimiz modelde daha iyi fikir sahibi olmak için önce modelin hatalarını incelicez\n",
    "#ve daha sonra kendi yazdığımız yorumları vererek modeli test edicez\n",
    "#ilk önce modeli test setindeki ilk bin yorumda çalıştırıcaz daha sonra\n",
    "#bu yorumlardan yanlış olanları bulup modelin yanlış tahmin ettiklerini bulucaz\n",
    "y_pred = model.predict(x=x_test_pad[0:1000])\n",
    "y_pred = y_pred.T[0]"
   ]
  },
  {
   "cell_type": "code",
   "execution_count": 52,
   "id": "3034ecbc-7b90-4b1e-b46e-a47ea9bfee8b",
   "metadata": {},
   "outputs": [],
   "source": [
    "#0.5 TEN BÜYÜKSE TAHMİN 1 DEĞİLSE 0 YAPICAZ BUDA BİZE OLUMLU OLUMSUZMU DİYECEK\n",
    "cls_pred = np.array([1.0 if p> 0.5 else 0.0 for p in y_pred]) #1ler ve 0 lardan oluşan vector elde ettik"
   ]
  },
  {
   "cell_type": "code",
   "execution_count": 53,
   "id": "d2ac08e2-82d0-46d1-bffd-9f931c93905e",
   "metadata": {},
   "outputs": [],
   "source": [
    "cls_true = np.array(y_test[0:1000])"
   ]
  },
  {
   "cell_type": "code",
   "execution_count": 54,
   "id": "f5cfda8b-f172-47dd-96cb-2eba32740f48",
   "metadata": {},
   "outputs": [],
   "source": [
    "#şimdi elimizdeki bu iki vektörü karşılaştırıcaz\n",
    "#ve modleimizin yanlış tahminlerini bir vektör içinde saklıcaz\n",
    "incorrect = np.where(cls_pred != cls_true)"
   ]
  },
  {
   "cell_type": "code",
   "execution_count": 55,
   "id": "c63e8fb7-8b73-4190-808e-c6419814f87a",
   "metadata": {},
   "outputs": [],
   "source": [
    "incorrect = incorrect[0]"
   ]
  },
  {
   "cell_type": "code",
   "execution_count": 56,
   "id": "82cf8be5-5cb9-4a86-a6fc-c3c0c3c6104e",
   "metadata": {},
   "outputs": [
    {
     "data": {
      "text/plain": [
       "50"
      ]
     },
     "execution_count": 56,
     "metadata": {},
     "output_type": "execute_result"
    }
   ],
   "source": [
    "len(incorrect) #43 tanesi yanlış bilinmiş 1000 yorumdan"
   ]
  },
  {
   "cell_type": "code",
   "execution_count": 57,
   "id": "7bceb01d-f32f-492c-ac73-667f51211276",
   "metadata": {},
   "outputs": [
    {
     "data": {
      "text/plain": [
       "5"
      ]
     },
     "execution_count": 57,
     "metadata": {},
     "output_type": "execute_result"
    }
   ],
   "source": [
    "idx = incorrect[0]\n",
    "idx"
   ]
  },
  {
   "cell_type": "code",
   "execution_count": 58,
   "id": "cbd141df-d032-4101-affd-4ffa76f48dbe",
   "metadata": {},
   "outputs": [
    {
     "data": {
      "text/plain": [
       "'Ürün güzel ama teslimat çok geç yapıldı.'"
      ]
     },
     "execution_count": 58,
     "metadata": {},
     "output_type": "execute_result"
    }
   ],
   "source": [
    "#5. yorumu yanlış bilmiş\n",
    "text = x_test[idx]\n",
    "text"
   ]
  },
  {
   "cell_type": "code",
   "execution_count": 59,
   "id": "e841a348-a758-421f-9a55-dfd26cd527c6",
   "metadata": {},
   "outputs": [],
   "source": [
    "#doğrusu tahmin etmesi zor bir yorum modelin hata yapması normal sayılabilir"
   ]
  },
  {
   "cell_type": "code",
   "execution_count": 60,
   "id": "df26e994-7f87-4926-8f57-a5bb7e8b7f04",
   "metadata": {},
   "outputs": [
    {
     "data": {
      "text/plain": [
       "0.8434444"
      ]
     },
     "execution_count": 60,
     "metadata": {},
     "output_type": "execute_result"
    }
   ],
   "source": [
    "y_pred[idx] #olumlu düşünüyor modelimiz aslında"
   ]
  },
  {
   "cell_type": "code",
   "execution_count": 61,
   "id": "e635455d-c159-4f08-8331-4ff3388ea583",
   "metadata": {},
   "outputs": [
    {
     "data": {
      "text/plain": [
       "0"
      ]
     },
     "execution_count": 61,
     "metadata": {},
     "output_type": "execute_result"
    }
   ],
   "source": [
    "cls_true[idx]# olumsuz olduğunu döndürdü"
   ]
  },
  {
   "cell_type": "code",
   "execution_count": 62,
   "id": "737f25c3-68e9-4cc7-8839-307e5f7f264c",
   "metadata": {},
   "outputs": [],
   "source": [
    "#şimdide kendi yorumlarımızı vererek modelin bu yorumları tahmin etmesini isteyelim\n",
    "text1 = \"bu ürün çok iyi herkese tavsiye ederim\"\n",
    "text2 = \"kargo çok hızlı aynı gün elime geçti\"\n",
    "text3 = \"büyük bir hayal kırıklığı yaşadım bu ürün bu markaya yakışmamış\"\n",
    "text4 = \"mükemmel\"\n",
    "text5 = \"tasarımı harika ancak kargo çok geç geldi ve ürün açılmıştı tavsiye etmem\"#olumlu başlanmış fakat sonra olumsuza dönmüş\n",
    "text6 = \"hiç resimde gösterildiği gibi değil\"\n",
    "text7 = \"kötü yorumlar gözümü korkutmuştu ancak hiçbir sorun yaşamadım teşekkürler\"\n",
    "text8 = \"hiç bu kadar kötü bir satıcıya denk gelmemiştim ürünü geri iade ediyorum\"\n",
    "text9 = \"tam bir fiyat performans ürünü\"\n",
    "text10 = \"beklediğim gibi çıkmadı\"\n",
    "texts = [text1, text2, text3, text4, text5, text6, text7, text8, text9, text10]"
   ]
  },
  {
   "cell_type": "code",
   "execution_count": 63,
   "id": "b6700c8b-88db-40bb-8d2b-fbc5a583f198",
   "metadata": {},
   "outputs": [],
   "source": [
    "#bu listeyi şuan direk modele veremeyiz öncelikle tokenleştirmemiz lazım"
   ]
  },
  {
   "cell_type": "code",
   "execution_count": 64,
   "id": "f32b0624-9c8e-4d3b-906a-2f4fc9259c79",
   "metadata": {},
   "outputs": [],
   "source": [
    "tokens = tokenizer.texts_to_sequences(texts)"
   ]
  },
  {
   "cell_type": "code",
   "execution_count": 65,
   "id": "08aa425d-18ef-47b8-8419-ac50a0ce0d73",
   "metadata": {},
   "outputs": [
    {
     "data": {
      "text/plain": [
       "array([  0,   0,   0,   0,   0,   0,   0,   0,   0,   0,   0,   0,   0,\n",
       "         0,   0,   0,   0,   0,   0,   0,   0,   0,   0,   0,   0,   0,\n",
       "         0,   0,   0,   0,   0,   0,   0,   0,   0,   0,   0,   0,   0,\n",
       "         0,   0,   0,   0,   0,   0,   0,   0,   0,   0,   0,   0,   0,\n",
       "        27,   1,  15,  94,  40,  29, 150])"
      ]
     },
     "execution_count": 65,
     "metadata": {},
     "output_type": "execute_result"
    }
   ],
   "source": [
    "tokens_pad = pad_sequences(tokens,maxlen = max_tokens)\n",
    "tokens_pad.shape\n",
    "tokens_pad[1]"
   ]
  },
  {
   "cell_type": "code",
   "execution_count": 66,
   "id": "f04e4c02-e4e6-4bee-b5cb-477c92dad3df",
   "metadata": {},
   "outputs": [
    {
     "name": "stdout",
     "output_type": "stream",
     "text": [
      "1/1 [==============================] - 0s 31ms/step\n"
     ]
    },
    {
     "data": {
      "text/plain": [
       "array([[0.9944624 ],\n",
       "       [0.98092973],\n",
       "       [0.11616809],\n",
       "       [0.987992  ],\n",
       "       [0.12376229],\n",
       "       [0.15142211],\n",
       "       [0.9863958 ],\n",
       "       [0.04938137],\n",
       "       [0.99179727],\n",
       "       [0.22978806]], dtype=float32)"
      ]
     },
     "execution_count": 66,
     "metadata": {},
     "output_type": "execute_result"
    }
   ],
   "source": [
    "model.predict(tokens_pad) #modelimiz verilen yorumlara göre olumlumu olumsuzmu bakıyor"
   ]
  },
  {
   "cell_type": "code",
   "execution_count": 67,
   "id": "d61c2b85-b5f9-466f-b0e5-20447f787c6c",
   "metadata": {},
   "outputs": [],
   "source": [
    "#10 da 10 yaptı\n",
    "#model.save(\"model.keras\")\n",
    "#model.save('model1.h5')\n",
    "#model.save_weights('model1_weights.h5')\n",
    "#with open('tokenizer.pickle', 'wb') as handle:\n",
    "#    pickle.dump(tokenizer, handle, protocol=pickle.HIGHEST_PROTOCOL)"
   ]
  },
  {
   "cell_type": "code",
   "execution_count": 68,
   "id": "a327ac71-0f2e-4fa7-8be4-c2e0db99752f",
   "metadata": {},
   "outputs": [
    {
     "data": {
      "text/plain": [
       "array([   0,    0,    0,    0,    0,    0,    0,    0,    0,    0,    0,\n",
       "          0,    0,    0,    0,    0,    0,    0,    0,    0,    0,    0,\n",
       "          0,    0,    0,    0,    0,    0,    0,    0,    0,    0,    0,\n",
       "          0,    0,    0,    0,    0,    0,    0,    0,    0,    0,  169,\n",
       "          4,    2,  799, 6254, 5307, 9365, 9591, 2360,   50, 1238,   78,\n",
       "        369,  677,   18, 2558])"
      ]
     },
     "execution_count": 68,
     "metadata": {},
     "output_type": "execute_result"
    }
   ],
   "source": [
    "text11 = \"kargo geç geldi ve ayrıca kargo paketi zarar görmüştü iade ettim\"\n",
    "text12 = \"aldığım ürün bir türlü çalışmadı firmayı aradığımda bizden kaynaklı değil diyor o yüzden iade de kabul etmiyorlar\"\n",
    "text13 = \"tam istediğim gibi bir ürün herkese tavsiye ederim\"\n",
    "text14 = \"ürün güzel fakat sistemime uymadığı için iade etmek zorunda kaldım\"\n",
    "texts = [text11, text12, text13, text14]\n",
    "tokens = tokenizer.texts_to_sequences(texts)\n",
    "tokens_pad = pad_sequences(tokens,maxlen = max_tokens)\n",
    "tokens_pad.shape\n",
    "tokens_pad[1]"
   ]
  },
  {
   "cell_type": "code",
   "execution_count": 69,
   "id": "84b6a384-b08b-4383-9dfa-270853892ed7",
   "metadata": {},
   "outputs": [
    {
     "name": "stdout",
     "output_type": "stream",
     "text": [
      "1/1 [==============================] - 0s 34ms/step\n"
     ]
    },
    {
     "data": {
      "text/plain": [
       "array([[0.13626058],\n",
       "       [0.02175866],\n",
       "       [0.99434865],\n",
       "       [0.1090418 ]], dtype=float32)"
      ]
     },
     "execution_count": 69,
     "metadata": {},
     "output_type": "execute_result"
    }
   ],
   "source": [
    "model.predict(tokens_pad)"
   ]
  },
  {
   "cell_type": "code",
   "execution_count": null,
   "id": "b82c7ecf-cb16-41fc-940f-f7d15a2d8448",
   "metadata": {},
   "outputs": [],
   "source": []
  }
 ],
 "metadata": {
  "kernelspec": {
   "display_name": "Python 3 (ipykernel)",
   "language": "python",
   "name": "python3"
  },
  "language_info": {
   "codemirror_mode": {
    "name": "ipython",
    "version": 3
   },
   "file_extension": ".py",
   "mimetype": "text/x-python",
   "name": "python",
   "nbconvert_exporter": "python",
   "pygments_lexer": "ipython3",
   "version": "3.9.0"
  }
 },
 "nbformat": 4,
 "nbformat_minor": 5
}
